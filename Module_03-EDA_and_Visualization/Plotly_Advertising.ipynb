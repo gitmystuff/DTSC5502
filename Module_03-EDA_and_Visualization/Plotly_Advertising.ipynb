{
  "nbformat": 4,
  "nbformat_minor": 0,
  "metadata": {
    "colab": {
      "provenance": [],
      "authorship_tag": "ABX9TyM01UkSDyZw31yhdMeN0NBa",
      "include_colab_link": true
    },
    "kernelspec": {
      "name": "python3",
      "display_name": "Python 3"
    },
    "language_info": {
      "name": "python"
    },
    "widgets": {
      "application/vnd.jupyter.widget-state+json": {
        "f78a9a62647f4237b5e1cf4d09995273": {
          "model_module": "@jupyter-widgets/controls",
          "model_name": "VBoxModel",
          "model_module_version": "1.5.0",
          "state": {
            "_dom_classes": [],
            "_model_module": "@jupyter-widgets/controls",
            "_model_module_version": "1.5.0",
            "_model_name": "VBoxModel",
            "_view_count": null,
            "_view_module": "@jupyter-widgets/controls",
            "_view_module_version": "1.5.0",
            "_view_name": "VBoxView",
            "box_style": "",
            "children": [
              "IPY_MODEL_6b66e7bce96344af97aeb333abb71013",
              "IPY_MODEL_c013a51ceec44ef795e280c1cc2ed8d7",
              "IPY_MODEL_a38d68bd1cac47eca221472cc3639155"
            ],
            "layout": "IPY_MODEL_98d806a6ed1a4d41977c8eceaa640de1"
          }
        },
        "6b66e7bce96344af97aeb333abb71013": {
          "model_module": "jupyterlab-plotly",
          "model_name": "FigureModel",
          "model_module_version": "^5.24.1",
          "state": {
            "_config": {
              "plotlyServerURL": "https://plot.ly"
            },
            "_data": [
              {
                "marker": {
                  "color": "lightgray"
                },
                "mode": "markers",
                "name": "TV",
                "x": {
                  "dtype": "float64",
                  "shape": [
                    150
                  ]
                },
                "y": {
                  "dtype": "float64",
                  "shape": [
                    150
                  ]
                },
                "type": "scatter",
                "uid": "7a73bee6-b17d-4c33-acec-0db41e77989b"
              },
              {
                "marker": {
                  "color": "lightgray"
                },
                "mode": "markers",
                "name": "radio",
                "x": {
                  "dtype": "float64",
                  "shape": [
                    150
                  ]
                },
                "y": {
                  "dtype": "float64",
                  "shape": [
                    150
                  ]
                },
                "type": "scatter",
                "uid": "be32b36a-7fbe-45d9-9930-5b6e048470de"
              },
              {
                "marker": {
                  "color": "lightgray"
                },
                "mode": "markers",
                "name": "newspaper",
                "x": {
                  "dtype": "float64",
                  "shape": [
                    150
                  ]
                },
                "y": {
                  "dtype": "float64",
                  "shape": [
                    150
                  ]
                },
                "type": "scatter",
                "uid": "754f0c55-c1a5-4b14-a73a-570c3c92725a"
              },
              {
                "marker": {
                  "color": "hotpink"
                },
                "mode": "lines",
                "name": "TV trend line",
                "visible": false,
                "x": {
                  "dtype": "float64",
                  "shape": [
                    150
                  ]
                },
                "y": {
                  "dtype": "float64",
                  "shape": [
                    150
                  ]
                },
                "type": "scatter",
                "uid": "74bd1fe2-6fb3-4967-82b4-03759947d3ff"
              },
              {
                "marker": {
                  "color": "lime"
                },
                "mode": "lines",
                "name": "radio trend line",
                "visible": false,
                "x": {
                  "dtype": "float64",
                  "shape": [
                    150
                  ]
                },
                "y": {
                  "dtype": "float64",
                  "shape": [
                    150
                  ]
                },
                "type": "scatter",
                "uid": "75a13de1-96e7-45cd-b37f-64c528de97b8"
              },
              {
                "marker": {
                  "color": "cyan"
                },
                "mode": "lines",
                "name": "newspaper trend line",
                "visible": false,
                "x": {
                  "dtype": "float64",
                  "shape": [
                    150
                  ]
                },
                "y": {
                  "dtype": "float64",
                  "shape": [
                    150
                  ]
                },
                "type": "scatter",
                "uid": "cb51d59e-01c9-4578-8b1c-674e842a2d08"
              }
            ],
            "_dom_classes": [],
            "_js2py_layoutDelta": null,
            "_js2py_pointsCallback": {},
            "_js2py_relayout": {},
            "_js2py_restyle": {},
            "_js2py_traceDeltas": null,
            "_js2py_update": {},
            "_last_layout_edit_id": 0,
            "_last_trace_edit_id": 0,
            "_layout": {
              "height": 600,
              "title": {
                "text": "Advertising Scatterplot"
              },
              "width": 800,
              "xaxis": {
                "title": {
                  "text": "X"
                }
              },
              "yaxis": {
                "title": {
                  "text": "y"
                }
              }
            },
            "_model_module": "jupyterlab-plotly",
            "_model_module_version": "^5.24.1",
            "_model_name": "FigureModel",
            "_py2js_addTraces": {},
            "_py2js_animate": {},
            "_py2js_deleteTraces": {},
            "_py2js_moveTraces": {},
            "_py2js_relayout": null,
            "_py2js_removeLayoutProps": {},
            "_py2js_removeTraceProps": {},
            "_py2js_restyle": {},
            "_py2js_update": {},
            "_view_count": 1,
            "_view_module": "jupyterlab-plotly",
            "_view_module_version": "^5.24.1",
            "_view_name": "FigureView"
          }
        },
        "c013a51ceec44ef795e280c1cc2ed8d7": {
          "model_module": "@jupyter-widgets/controls",
          "model_name": "HBoxModel",
          "model_module_version": "1.5.0",
          "state": {
            "_dom_classes": [],
            "_model_module": "@jupyter-widgets/controls",
            "_model_module_version": "1.5.0",
            "_model_name": "HBoxModel",
            "_view_count": null,
            "_view_module": "@jupyter-widgets/controls",
            "_view_module_version": "1.5.0",
            "_view_name": "HBoxView",
            "box_style": "",
            "children": [
              "IPY_MODEL_c7769d31ac374f07828399e4e3820e1a",
              "IPY_MODEL_22c8a2ec320b472c96333048fbc12be1",
              "IPY_MODEL_f0474ec2a02a48e0aa84d7416ec563be"
            ],
            "layout": "IPY_MODEL_4e17744697a844a0b6a1c554610ddb1c"
          }
        },
        "a38d68bd1cac47eca221472cc3639155": {
          "model_module": "@jupyter-widgets/controls",
          "model_name": "HBoxModel",
          "model_module_version": "1.5.0",
          "state": {
            "_dom_classes": [],
            "_model_module": "@jupyter-widgets/controls",
            "_model_module_version": "1.5.0",
            "_model_name": "HBoxModel",
            "_view_count": null,
            "_view_module": "@jupyter-widgets/controls",
            "_view_module_version": "1.5.0",
            "_view_name": "HBoxView",
            "box_style": "",
            "children": [
              "IPY_MODEL_277db8c05dfc4a6aa0de71333ff47ce9",
              "IPY_MODEL_0926436d24f2478c9da51b78c9a8ec83"
            ],
            "layout": "IPY_MODEL_89b70a1506b441a494bf58c8cce2927e"
          }
        },
        "98d806a6ed1a4d41977c8eceaa640de1": {
          "model_module": "@jupyter-widgets/base",
          "model_name": "LayoutModel",
          "model_module_version": "1.2.0",
          "state": {
            "_model_module": "@jupyter-widgets/base",
            "_model_module_version": "1.2.0",
            "_model_name": "LayoutModel",
            "_view_count": null,
            "_view_module": "@jupyter-widgets/base",
            "_view_module_version": "1.2.0",
            "_view_name": "LayoutView",
            "align_content": null,
            "align_items": null,
            "align_self": null,
            "border": null,
            "bottom": null,
            "display": null,
            "flex": null,
            "flex_flow": null,
            "grid_area": null,
            "grid_auto_columns": null,
            "grid_auto_flow": null,
            "grid_auto_rows": null,
            "grid_column": null,
            "grid_gap": null,
            "grid_row": null,
            "grid_template_areas": null,
            "grid_template_columns": null,
            "grid_template_rows": null,
            "height": null,
            "justify_content": null,
            "justify_items": null,
            "left": null,
            "margin": null,
            "max_height": null,
            "max_width": null,
            "min_height": null,
            "min_width": null,
            "object_fit": null,
            "object_position": null,
            "order": null,
            "overflow": null,
            "overflow_x": null,
            "overflow_y": null,
            "padding": null,
            "right": null,
            "top": null,
            "visibility": null,
            "width": null
          }
        },
        "c7769d31ac374f07828399e4e3820e1a": {
          "model_module": "@jupyter-widgets/controls",
          "model_name": "CheckboxModel",
          "model_module_version": "1.5.0",
          "state": {
            "_dom_classes": [],
            "_model_module": "@jupyter-widgets/controls",
            "_model_module_version": "1.5.0",
            "_model_name": "CheckboxModel",
            "_view_count": null,
            "_view_module": "@jupyter-widgets/controls",
            "_view_module_version": "1.5.0",
            "_view_name": "CheckboxView",
            "description": "TV Color",
            "description_tooltip": null,
            "disabled": false,
            "indent": true,
            "layout": "IPY_MODEL_0246f809d88040ddbfa18c689a8d3e52",
            "style": "IPY_MODEL_6fb6174c41fe46d9b5850cc75c10ee35",
            "value": false
          }
        },
        "22c8a2ec320b472c96333048fbc12be1": {
          "model_module": "@jupyter-widgets/controls",
          "model_name": "CheckboxModel",
          "model_module_version": "1.5.0",
          "state": {
            "_dom_classes": [],
            "_model_module": "@jupyter-widgets/controls",
            "_model_module_version": "1.5.0",
            "_model_name": "CheckboxModel",
            "_view_count": null,
            "_view_module": "@jupyter-widgets/controls",
            "_view_module_version": "1.5.0",
            "_view_name": "CheckboxView",
            "description": "Radio Color",
            "description_tooltip": null,
            "disabled": false,
            "indent": true,
            "layout": "IPY_MODEL_a30cbe5d1186444d888c135b8d2c2725",
            "style": "IPY_MODEL_ed103e9a5e7347abafbaf0a34578b265",
            "value": false
          }
        },
        "f0474ec2a02a48e0aa84d7416ec563be": {
          "model_module": "@jupyter-widgets/controls",
          "model_name": "CheckboxModel",
          "model_module_version": "1.5.0",
          "state": {
            "_dom_classes": [],
            "_model_module": "@jupyter-widgets/controls",
            "_model_module_version": "1.5.0",
            "_model_name": "CheckboxModel",
            "_view_count": null,
            "_view_module": "@jupyter-widgets/controls",
            "_view_module_version": "1.5.0",
            "_view_name": "CheckboxView",
            "description": "Paper Color",
            "description_tooltip": null,
            "disabled": false,
            "indent": true,
            "layout": "IPY_MODEL_d1b1650a45c54aa98ebb9be08e7f7bdb",
            "style": "IPY_MODEL_18f66a9640214506a9408263cb75a208",
            "value": false
          }
        },
        "4e17744697a844a0b6a1c554610ddb1c": {
          "model_module": "@jupyter-widgets/base",
          "model_name": "LayoutModel",
          "model_module_version": "1.2.0",
          "state": {
            "_model_module": "@jupyter-widgets/base",
            "_model_module_version": "1.2.0",
            "_model_name": "LayoutModel",
            "_view_count": null,
            "_view_module": "@jupyter-widgets/base",
            "_view_module_version": "1.2.0",
            "_view_name": "LayoutView",
            "align_content": null,
            "align_items": null,
            "align_self": null,
            "border": null,
            "bottom": null,
            "display": null,
            "flex": null,
            "flex_flow": null,
            "grid_area": null,
            "grid_auto_columns": null,
            "grid_auto_flow": null,
            "grid_auto_rows": null,
            "grid_column": null,
            "grid_gap": null,
            "grid_row": null,
            "grid_template_areas": null,
            "grid_template_columns": null,
            "grid_template_rows": null,
            "height": null,
            "justify_content": null,
            "justify_items": null,
            "left": null,
            "margin": null,
            "max_height": null,
            "max_width": null,
            "min_height": null,
            "min_width": null,
            "object_fit": null,
            "object_position": null,
            "order": null,
            "overflow": null,
            "overflow_x": null,
            "overflow_y": null,
            "padding": null,
            "right": null,
            "top": null,
            "visibility": null,
            "width": null
          }
        },
        "277db8c05dfc4a6aa0de71333ff47ce9": {
          "model_module": "@jupyter-widgets/controls",
          "model_name": "CheckboxModel",
          "model_module_version": "1.5.0",
          "state": {
            "_dom_classes": [],
            "_model_module": "@jupyter-widgets/controls",
            "_model_module_version": "1.5.0",
            "_model_name": "CheckboxModel",
            "_view_count": null,
            "_view_module": "@jupyter-widgets/controls",
            "_view_module_version": "1.5.0",
            "_view_name": "CheckboxView",
            "description": "Show Colors",
            "description_tooltip": null,
            "disabled": false,
            "indent": true,
            "layout": "IPY_MODEL_5ab247048b664d8a90d894fc36cea84f",
            "style": "IPY_MODEL_d5b72f5fe9c940c09e2ec3d69e89fad9",
            "value": false
          }
        },
        "0926436d24f2478c9da51b78c9a8ec83": {
          "model_module": "@jupyter-widgets/controls",
          "model_name": "CheckboxModel",
          "model_module_version": "1.5.0",
          "state": {
            "_dom_classes": [],
            "_model_module": "@jupyter-widgets/controls",
            "_model_module_version": "1.5.0",
            "_model_name": "CheckboxModel",
            "_view_count": null,
            "_view_module": "@jupyter-widgets/controls",
            "_view_module_version": "1.5.0",
            "_view_name": "CheckboxView",
            "description": "Show Trends",
            "description_tooltip": null,
            "disabled": false,
            "indent": true,
            "layout": "IPY_MODEL_177800ce40984b68b7c55c6aa8c9b437",
            "style": "IPY_MODEL_d2579591d1034ed9868ea0f7e0a4a63c",
            "value": false
          }
        },
        "89b70a1506b441a494bf58c8cce2927e": {
          "model_module": "@jupyter-widgets/base",
          "model_name": "LayoutModel",
          "model_module_version": "1.2.0",
          "state": {
            "_model_module": "@jupyter-widgets/base",
            "_model_module_version": "1.2.0",
            "_model_name": "LayoutModel",
            "_view_count": null,
            "_view_module": "@jupyter-widgets/base",
            "_view_module_version": "1.2.0",
            "_view_name": "LayoutView",
            "align_content": null,
            "align_items": null,
            "align_self": null,
            "border": null,
            "bottom": null,
            "display": null,
            "flex": null,
            "flex_flow": null,
            "grid_area": null,
            "grid_auto_columns": null,
            "grid_auto_flow": null,
            "grid_auto_rows": null,
            "grid_column": null,
            "grid_gap": null,
            "grid_row": null,
            "grid_template_areas": null,
            "grid_template_columns": null,
            "grid_template_rows": null,
            "height": null,
            "justify_content": null,
            "justify_items": null,
            "left": null,
            "margin": null,
            "max_height": null,
            "max_width": null,
            "min_height": null,
            "min_width": null,
            "object_fit": null,
            "object_position": null,
            "order": null,
            "overflow": null,
            "overflow_x": null,
            "overflow_y": null,
            "padding": null,
            "right": null,
            "top": null,
            "visibility": null,
            "width": null
          }
        },
        "0246f809d88040ddbfa18c689a8d3e52": {
          "model_module": "@jupyter-widgets/base",
          "model_name": "LayoutModel",
          "model_module_version": "1.2.0",
          "state": {
            "_model_module": "@jupyter-widgets/base",
            "_model_module_version": "1.2.0",
            "_model_name": "LayoutModel",
            "_view_count": null,
            "_view_module": "@jupyter-widgets/base",
            "_view_module_version": "1.2.0",
            "_view_name": "LayoutView",
            "align_content": null,
            "align_items": null,
            "align_self": null,
            "border": null,
            "bottom": null,
            "display": null,
            "flex": null,
            "flex_flow": null,
            "grid_area": null,
            "grid_auto_columns": null,
            "grid_auto_flow": null,
            "grid_auto_rows": null,
            "grid_column": null,
            "grid_gap": null,
            "grid_row": null,
            "grid_template_areas": null,
            "grid_template_columns": null,
            "grid_template_rows": null,
            "height": null,
            "justify_content": null,
            "justify_items": null,
            "left": null,
            "margin": null,
            "max_height": null,
            "max_width": null,
            "min_height": null,
            "min_width": null,
            "object_fit": null,
            "object_position": null,
            "order": null,
            "overflow": null,
            "overflow_x": null,
            "overflow_y": null,
            "padding": null,
            "right": null,
            "top": null,
            "visibility": null,
            "width": null
          }
        },
        "6fb6174c41fe46d9b5850cc75c10ee35": {
          "model_module": "@jupyter-widgets/controls",
          "model_name": "DescriptionStyleModel",
          "model_module_version": "1.5.0",
          "state": {
            "_model_module": "@jupyter-widgets/controls",
            "_model_module_version": "1.5.0",
            "_model_name": "DescriptionStyleModel",
            "_view_count": null,
            "_view_module": "@jupyter-widgets/base",
            "_view_module_version": "1.2.0",
            "_view_name": "StyleView",
            "description_width": ""
          }
        },
        "a30cbe5d1186444d888c135b8d2c2725": {
          "model_module": "@jupyter-widgets/base",
          "model_name": "LayoutModel",
          "model_module_version": "1.2.0",
          "state": {
            "_model_module": "@jupyter-widgets/base",
            "_model_module_version": "1.2.0",
            "_model_name": "LayoutModel",
            "_view_count": null,
            "_view_module": "@jupyter-widgets/base",
            "_view_module_version": "1.2.0",
            "_view_name": "LayoutView",
            "align_content": null,
            "align_items": null,
            "align_self": null,
            "border": null,
            "bottom": null,
            "display": null,
            "flex": null,
            "flex_flow": null,
            "grid_area": null,
            "grid_auto_columns": null,
            "grid_auto_flow": null,
            "grid_auto_rows": null,
            "grid_column": null,
            "grid_gap": null,
            "grid_row": null,
            "grid_template_areas": null,
            "grid_template_columns": null,
            "grid_template_rows": null,
            "height": null,
            "justify_content": null,
            "justify_items": null,
            "left": null,
            "margin": null,
            "max_height": null,
            "max_width": null,
            "min_height": null,
            "min_width": null,
            "object_fit": null,
            "object_position": null,
            "order": null,
            "overflow": null,
            "overflow_x": null,
            "overflow_y": null,
            "padding": null,
            "right": null,
            "top": null,
            "visibility": null,
            "width": null
          }
        },
        "ed103e9a5e7347abafbaf0a34578b265": {
          "model_module": "@jupyter-widgets/controls",
          "model_name": "DescriptionStyleModel",
          "model_module_version": "1.5.0",
          "state": {
            "_model_module": "@jupyter-widgets/controls",
            "_model_module_version": "1.5.0",
            "_model_name": "DescriptionStyleModel",
            "_view_count": null,
            "_view_module": "@jupyter-widgets/base",
            "_view_module_version": "1.2.0",
            "_view_name": "StyleView",
            "description_width": ""
          }
        },
        "d1b1650a45c54aa98ebb9be08e7f7bdb": {
          "model_module": "@jupyter-widgets/base",
          "model_name": "LayoutModel",
          "model_module_version": "1.2.0",
          "state": {
            "_model_module": "@jupyter-widgets/base",
            "_model_module_version": "1.2.0",
            "_model_name": "LayoutModel",
            "_view_count": null,
            "_view_module": "@jupyter-widgets/base",
            "_view_module_version": "1.2.0",
            "_view_name": "LayoutView",
            "align_content": null,
            "align_items": null,
            "align_self": null,
            "border": null,
            "bottom": null,
            "display": null,
            "flex": null,
            "flex_flow": null,
            "grid_area": null,
            "grid_auto_columns": null,
            "grid_auto_flow": null,
            "grid_auto_rows": null,
            "grid_column": null,
            "grid_gap": null,
            "grid_row": null,
            "grid_template_areas": null,
            "grid_template_columns": null,
            "grid_template_rows": null,
            "height": null,
            "justify_content": null,
            "justify_items": null,
            "left": null,
            "margin": null,
            "max_height": null,
            "max_width": null,
            "min_height": null,
            "min_width": null,
            "object_fit": null,
            "object_position": null,
            "order": null,
            "overflow": null,
            "overflow_x": null,
            "overflow_y": null,
            "padding": null,
            "right": null,
            "top": null,
            "visibility": null,
            "width": null
          }
        },
        "18f66a9640214506a9408263cb75a208": {
          "model_module": "@jupyter-widgets/controls",
          "model_name": "DescriptionStyleModel",
          "model_module_version": "1.5.0",
          "state": {
            "_model_module": "@jupyter-widgets/controls",
            "_model_module_version": "1.5.0",
            "_model_name": "DescriptionStyleModel",
            "_view_count": null,
            "_view_module": "@jupyter-widgets/base",
            "_view_module_version": "1.2.0",
            "_view_name": "StyleView",
            "description_width": ""
          }
        },
        "5ab247048b664d8a90d894fc36cea84f": {
          "model_module": "@jupyter-widgets/base",
          "model_name": "LayoutModel",
          "model_module_version": "1.2.0",
          "state": {
            "_model_module": "@jupyter-widgets/base",
            "_model_module_version": "1.2.0",
            "_model_name": "LayoutModel",
            "_view_count": null,
            "_view_module": "@jupyter-widgets/base",
            "_view_module_version": "1.2.0",
            "_view_name": "LayoutView",
            "align_content": null,
            "align_items": null,
            "align_self": null,
            "border": null,
            "bottom": null,
            "display": null,
            "flex": null,
            "flex_flow": null,
            "grid_area": null,
            "grid_auto_columns": null,
            "grid_auto_flow": null,
            "grid_auto_rows": null,
            "grid_column": null,
            "grid_gap": null,
            "grid_row": null,
            "grid_template_areas": null,
            "grid_template_columns": null,
            "grid_template_rows": null,
            "height": null,
            "justify_content": null,
            "justify_items": null,
            "left": null,
            "margin": null,
            "max_height": null,
            "max_width": null,
            "min_height": null,
            "min_width": null,
            "object_fit": null,
            "object_position": null,
            "order": null,
            "overflow": null,
            "overflow_x": null,
            "overflow_y": null,
            "padding": null,
            "right": null,
            "top": null,
            "visibility": null,
            "width": null
          }
        },
        "d5b72f5fe9c940c09e2ec3d69e89fad9": {
          "model_module": "@jupyter-widgets/controls",
          "model_name": "DescriptionStyleModel",
          "model_module_version": "1.5.0",
          "state": {
            "_model_module": "@jupyter-widgets/controls",
            "_model_module_version": "1.5.0",
            "_model_name": "DescriptionStyleModel",
            "_view_count": null,
            "_view_module": "@jupyter-widgets/base",
            "_view_module_version": "1.2.0",
            "_view_name": "StyleView",
            "description_width": ""
          }
        },
        "177800ce40984b68b7c55c6aa8c9b437": {
          "model_module": "@jupyter-widgets/base",
          "model_name": "LayoutModel",
          "model_module_version": "1.2.0",
          "state": {
            "_model_module": "@jupyter-widgets/base",
            "_model_module_version": "1.2.0",
            "_model_name": "LayoutModel",
            "_view_count": null,
            "_view_module": "@jupyter-widgets/base",
            "_view_module_version": "1.2.0",
            "_view_name": "LayoutView",
            "align_content": null,
            "align_items": null,
            "align_self": null,
            "border": null,
            "bottom": null,
            "display": null,
            "flex": null,
            "flex_flow": null,
            "grid_area": null,
            "grid_auto_columns": null,
            "grid_auto_flow": null,
            "grid_auto_rows": null,
            "grid_column": null,
            "grid_gap": null,
            "grid_row": null,
            "grid_template_areas": null,
            "grid_template_columns": null,
            "grid_template_rows": null,
            "height": null,
            "justify_content": null,
            "justify_items": null,
            "left": null,
            "margin": null,
            "max_height": null,
            "max_width": null,
            "min_height": null,
            "min_width": null,
            "object_fit": null,
            "object_position": null,
            "order": null,
            "overflow": null,
            "overflow_x": null,
            "overflow_y": null,
            "padding": null,
            "right": null,
            "top": null,
            "visibility": null,
            "width": null
          }
        },
        "d2579591d1034ed9868ea0f7e0a4a63c": {
          "model_module": "@jupyter-widgets/controls",
          "model_name": "DescriptionStyleModel",
          "model_module_version": "1.5.0",
          "state": {
            "_model_module": "@jupyter-widgets/controls",
            "_model_module_version": "1.5.0",
            "_model_name": "DescriptionStyleModel",
            "_view_count": null,
            "_view_module": "@jupyter-widgets/base",
            "_view_module_version": "1.2.0",
            "_view_name": "StyleView",
            "description_width": ""
          }
        }
      }
    }
  },
  "cells": [
    {
      "cell_type": "markdown",
      "metadata": {
        "id": "view-in-github",
        "colab_type": "text"
      },
      "source": [
        "<a href=\"https://colab.research.google.com/github/gitmystuff/DTSC5502/blob/main/Module_03-EDA_and_Visualization/Plotly_Advertising.ipynb\" target=\"_parent\"><img src=\"https://colab.research.google.com/assets/colab-badge.svg\" alt=\"Open In Colab\"/></a>"
      ]
    },
    {
      "cell_type": "markdown",
      "source": [
        "# Plotly Advertising Scatter Plot\n",
        "\n",
        "Run this file"
      ],
      "metadata": {
        "id": "ZzUJyXdwNULK"
      }
    },
    {
      "cell_type": "code",
      "execution_count": 11,
      "metadata": {
        "id": "wB-YJdrhNLmN"
      },
      "outputs": [],
      "source": [
        "# plotly example of two distributions\n",
        "import numpy as np\n",
        "import pandas as pd\n",
        "from sklearn.linear_model import LinearRegression\n",
        "from sklearn.model_selection import train_test_split\n",
        "from sklearn.preprocessing import StandardScaler\n",
        "# from scipy.stats import pearsonr, ttest_ind\n",
        "\n",
        "import plotly.graph_objects as go\n",
        "from ipywidgets import widgets\n",
        "from plotly.subplots import make_subplots\n",
        "\n",
        "df = pd.read_csv('https://raw.githubusercontent.com/gitmystuff/Datasets/main/Advertising.csv', usecols=['TV', 'radio', 'newspaper', 'sales'])\n",
        "X_train, X_test, y_train, y_test = train_test_split(\n",
        "    df.drop('sales', axis=1),\n",
        "    df['sales'],\n",
        "    test_size=0.25,\n",
        "    random_state=42)\n",
        "\n",
        "scaler = StandardScaler()\n",
        "scaler.fit(X_train)\n",
        "\n",
        "X_train = pd.DataFrame(data=scaler.transform(X_train), columns=X_train.columns)\n",
        "X_test = pd.DataFrame(data=scaler.transform(X_test), columns=X_test.columns)\n",
        "\n",
        "tv_model = LinearRegression().fit(X_train[['TV']],y_train)\n",
        "tv_preds = tv_model.predict(X_train[['TV']])\n",
        "\n",
        "radio_model = LinearRegression().fit(X_train[['radio']],y_train)\n",
        "radio_preds = radio_model.predict(X_train[['radio']])\n",
        "\n",
        "paper_model = LinearRegression().fit(X_train[['newspaper']],y_train)\n",
        "paper_preds = paper_model.predict(X_train[['newspaper']])\n",
        "\n",
        "TV = go.Scatter(x=X_train['TV'], y=y_train, mode='markers', marker=dict(color='lightgray'), name='TV')\n",
        "radio = go.Scatter(x=X_train['radio'], y=y_train, mode='markers', marker=dict(color='lightgray'), name='radio')\n",
        "newspaper = go.Scatter(x=X_train['newspaper'], y=y_train, mode='markers', marker=dict(color='lightgray'), name='newspaper')\n",
        "\n",
        "tv_trend = go.Scatter(x=X_train['TV'], y=tv_preds, mode='lines', marker=dict(color='hotpink'), name='TV trend line', visible=False)\n",
        "radio_trend = go.Scatter(x=X_train['radio'], y=radio_preds, mode='lines', marker=dict(color='lime'), name='radio trend line', visible=False)\n",
        "paper_trend = go.Scatter(x=X_train['newspaper'], y=paper_preds, mode='lines', marker=dict(color='cyan'), name='newspaper trend line', visible=False)\n",
        "\n",
        "show_colors = widgets.Checkbox(\n",
        "    description='Show Colors',\n",
        "    value=False,\n",
        ")\n",
        "\n",
        "show_trends = widgets.Checkbox(\n",
        "    description='Show Trends',\n",
        "    value=False,\n",
        ")\n",
        "\n",
        "show_paper_color = widgets.Checkbox(\n",
        "    description='Paper Color',\n",
        "    value=False,\n",
        ")\n",
        "\n",
        "show_radio_color = widgets.Checkbox(\n",
        "    description='Radio Color',\n",
        "    value=False,\n",
        ")\n",
        "\n",
        "show_tv_color = widgets.Checkbox(\n",
        "    description='TV Color',\n",
        "    value=False,\n",
        ")\n",
        "\n",
        "container = widgets.HBox(children=[show_colors, show_trends])\n",
        "container2 = widgets.HBox(children=[show_tv_color, show_radio_color, show_paper_color])\n",
        "\n",
        "g1 = go.FigureWidget(data=[TV, radio, newspaper, tv_trend, radio_trend, paper_trend],\n",
        "                    layout=go.Layout(\n",
        "                        title=dict(\n",
        "                            text='Advertising Scatterplot'\n",
        "                        ),\n",
        "                        width=800,\n",
        "                        height=600,\n",
        "                        xaxis_title='X',\n",
        "                        yaxis_title='y'\n",
        "                    ))\n",
        "\n",
        "# def response(change):\n",
        "#   with g1.batch_update():\n",
        "#     if show_colors.value==True:\n",
        "#       g1.data[0].marker=dict(color='red')\n",
        "#       g1.data[1].marker=dict(color='springgreen')\n",
        "#       g1.data[2].marker=dict(color='blue')\n",
        "#     else:\n",
        "#       g1.data[0].marker=dict(color='lightgray')\n",
        "#       g1.data[1].marker=dict(color='lightgray')\n",
        "#       g1.data[2].marker=dict(color='lightgray')\n",
        "\n",
        "#     if show_trends.value==True:\n",
        "#       g1.data[3].visible = True\n",
        "#       g1.data[4].visible = True\n",
        "#       g1.data[5].visible = True\n",
        "#       g1.data[0].opacity = .8\n",
        "#       g1.data[1].opacity = .6\n",
        "#       g1.data[2].opacity = .2\n",
        "#     else:\n",
        "#       g1.data[3].visible = False\n",
        "#       g1.data[4].visible = False\n",
        "#       g1.data[5].visible = False\n",
        "#       g1.data[0].opacity = 1\n",
        "#       g1.data[1].opacity = 1\n",
        "#       g1.data[2].opacity = 1\n",
        "\n",
        "#     if show_tv_color.value==True:\n",
        "#       g1.data[0].marker=dict(color='red')\n",
        "#       g1.data[3].visible = True\n",
        "#     else:\n",
        "#       g1.data[0].marker=dict(color='lightgray')\n",
        "#       g1.data[3].visible = False\n",
        "\n",
        "#     if show_radio_color.value==True:\n",
        "#       g1.data[1].marker=dict(color='springgreen')\n",
        "#       g1.data[4].visible = True\n",
        "#     else:\n",
        "#       g1.data[1].marker=dict(color='lightgray')\n",
        "#       g1.data[4].visible = False\n",
        "\n",
        "#     if show_paper_color.value==True:\n",
        "#       g1.data[2].marker=dict(color='blue')\n",
        "#       g1.data[5].visible = True\n",
        "#     else:\n",
        "#       g1.data[2].marker=dict(color='lightgray')\n",
        "#       g1.data[5].visible = False\n",
        "\n",
        "def response(change):\n",
        "    \"\"\"\n",
        "    Handles widget events to update the plot's appearance.\n",
        "    This refactored version uses a mapping to avoid hardcoded indices\n",
        "    and clarifies the logic for applying global and individual settings.\n",
        "    \"\"\"\n",
        "    # --- Setup: Map indices to names and widgets for clarity ---\n",
        "    # This makes the code readable by replacing g1.data[0] with a meaningful name.\n",
        "    feature_map = {\n",
        "        'TV': {\n",
        "            'scatter_idx': 0,\n",
        "            'trend_idx': 3,\n",
        "            'widget': show_tv_color,\n",
        "            'color': 'red',\n",
        "            'opacity': 0.8\n",
        "        },\n",
        "        'radio': {\n",
        "            'scatter_idx': 1,\n",
        "            'trend_idx': 4,\n",
        "            'widget': show_radio_color,\n",
        "            'color': 'springgreen',\n",
        "            'opacity': 0.6\n",
        "        },\n",
        "        'newspaper': {\n",
        "            'scatter_idx': 2,\n",
        "            'trend_idx': 5,\n",
        "            'widget': show_paper_color,\n",
        "            'color': 'blue',\n",
        "            'opacity': 0.2\n",
        "        }\n",
        "    }\n",
        "\n",
        "    with g1.batch_update():\n",
        "        # --- 1. Apply Global Settings First ---\n",
        "        # Determine the base settings from the global 'Show Colors' and 'Show Trends' checkboxes.\n",
        "        global_colors_on = show_colors.value\n",
        "        global_trends_on = show_trends.value\n",
        "\n",
        "        # --- 2. Iterate Through Each Feature to Apply Logic ---\n",
        "        # This loop handles all three features, avoiding repeated code.\n",
        "        for config in feature_map.values():\n",
        "            scatter_plot = g1.data[config['scatter_idx']]\n",
        "            trend_line = g1.data[config['trend_idx']]\n",
        "\n",
        "            # Check the state of the feature's individual checkbox\n",
        "            individual_widget_on = config['widget'].value\n",
        "\n",
        "            # --- Determine Final State (Individual checkboxes override global ones) ---\n",
        "            # Color is specific if the individual box is checked OR the global color box is checked.\n",
        "            is_colored = individual_widget_on or global_colors_on\n",
        "            scatter_plot.marker.color = config['color'] if is_colored else 'lightgray'\n",
        "\n",
        "            # Trend is visible if the individual box is checked OR the global trend box is checked.\n",
        "            is_visible = individual_widget_on or global_trends_on\n",
        "            trend_line.visible = is_visible\n",
        "\n",
        "            # Opacity is reduced only when the global trends box is on.\n",
        "            # Individual boxes don't affect the opacity of other plots in this logic.\n",
        "            scatter_plot.opacity = config['opacity'] if global_trends_on else 1.0\n",
        "\n",
        "show_colors.observe(response, names=\"value\")\n",
        "show_trends.observe(response, names=\"value\")\n",
        "show_paper_color.observe(response, names=\"value\")\n",
        "show_radio_color.observe(response, names=\"value\")\n",
        "show_tv_color.observe(response, names=\"value\")"
      ]
    },
    {
      "cell_type": "code",
      "source": [
        "from google.colab import output\n",
        "output.enable_custom_widget_manager()"
      ],
      "metadata": {
        "id": "uce8fN2surHp"
      },
      "execution_count": 12,
      "outputs": []
    },
    {
      "cell_type": "markdown",
      "source": [
        "Support for third party widgets will remain active for the duration of the session. To disable support:"
      ],
      "metadata": {
        "id": "A_QsgkSEurHr"
      }
    },
    {
      "cell_type": "code",
      "source": [
        "from google.colab import output\n",
        "output.disable_custom_widget_manager()"
      ],
      "metadata": {
        "id": "79c3zEuLurHr"
      },
      "execution_count": 13,
      "outputs": []
    },
    {
      "cell_type": "code",
      "source": [
        "from google.colab import output\n",
        "output.enable_custom_widget_manager()"
      ],
      "metadata": {
        "id": "xyiBMYyMNwS1"
      },
      "execution_count": 14,
      "outputs": []
    },
    {
      "cell_type": "code",
      "source": [
        "widgets.VBox([g1, container2, container])"
      ],
      "metadata": {
        "id": "n1fWn30XNykK",
        "outputId": "1ec9c7a2-804b-4efe-f38d-b4279b06d93f",
        "colab": {
          "base_uri": "https://localhost:8080/",
          "height": 681,
          "referenced_widgets": [
            "f78a9a62647f4237b5e1cf4d09995273",
            "6b66e7bce96344af97aeb333abb71013",
            "c013a51ceec44ef795e280c1cc2ed8d7",
            "a38d68bd1cac47eca221472cc3639155",
            "98d806a6ed1a4d41977c8eceaa640de1",
            "c7769d31ac374f07828399e4e3820e1a",
            "22c8a2ec320b472c96333048fbc12be1",
            "f0474ec2a02a48e0aa84d7416ec563be",
            "4e17744697a844a0b6a1c554610ddb1c",
            "277db8c05dfc4a6aa0de71333ff47ce9",
            "0926436d24f2478c9da51b78c9a8ec83",
            "89b70a1506b441a494bf58c8cce2927e",
            "0246f809d88040ddbfa18c689a8d3e52",
            "6fb6174c41fe46d9b5850cc75c10ee35",
            "a30cbe5d1186444d888c135b8d2c2725",
            "ed103e9a5e7347abafbaf0a34578b265",
            "d1b1650a45c54aa98ebb9be08e7f7bdb",
            "18f66a9640214506a9408263cb75a208",
            "5ab247048b664d8a90d894fc36cea84f",
            "d5b72f5fe9c940c09e2ec3d69e89fad9",
            "177800ce40984b68b7c55c6aa8c9b437",
            "d2579591d1034ed9868ea0f7e0a4a63c"
          ]
        }
      },
      "execution_count": 15,
      "outputs": [
        {
          "output_type": "display_data",
          "data": {
            "text/plain": [
              "VBox(children=(FigureWidget({\n",
              "    'data': [{'marker': {'color': 'lightgray'},\n",
              "              'mode': 'markers',…"
            ],
            "application/vnd.jupyter.widget-view+json": {
              "version_major": 2,
              "version_minor": 0,
              "model_id": "f78a9a62647f4237b5e1cf4d09995273"
            }
          },
          "metadata": {
            "application/vnd.jupyter.widget-view+json": {
              "colab": {
                "custom_widget_manager": {
                  "url": "https://ssl.gstatic.com/colaboratory-static/widgets/colab-cdn-widget-manager/2b70e893a8ba7c0f/manager.min.js"
                }
              }
            }
          }
        }
      ]
    }
  ]
}