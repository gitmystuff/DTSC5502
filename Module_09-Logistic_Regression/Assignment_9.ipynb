{
  "nbformat": 4,
  "nbformat_minor": 0,
  "metadata": {
    "colab": {
      "provenance": [],
      "toc_visible": true,
      "authorship_tag": "ABX9TyNchFGpLr+QZPLd5tyZFxSq",
      "include_colab_link": true
    },
    "kernelspec": {
      "name": "python3",
      "display_name": "Python 3"
    },
    "language_info": {
      "name": "python"
    }
  },
  "cells": [
    {
      "cell_type": "markdown",
      "metadata": {
        "id": "view-in-github",
        "colab_type": "text"
      },
      "source": [
        "<a href=\"https://colab.research.google.com/github/gitmystuff/DTSC5502/blob/main/Module_09-Logistic_Regression/Assignment_9.ipynb\" target=\"_parent\"><img src=\"https://colab.research.google.com/assets/colab-badge.svg\" alt=\"Open In Colab\"/></a>"
      ]
    },
    {
      "cell_type": "markdown",
      "source": [
        "# Assignment 9"
      ],
      "metadata": {
        "id": "-WSh0IMV6eEH"
      }
    },
    {
      "cell_type": "markdown",
      "source": [
        "## Bayes' Theorem and Key Definitions\n",
        "\n",
        "**Bayes' Theorem**:\n",
        "\n",
        "$$P(A|B) = \\frac{P(A)P(B|A)}{P(B)}$$\n",
        "\n",
        "Where:\n",
        "\n",
        "* **$P(A)$ (Prior Probability):** This is the probability distribution that expresses one's beliefs about the quantity $A$ **before** any evidence $B$ is taken into account.\n",
        "* **$P(B)$ (Marginal Likelihood/Evidence):** This is the total probability of observing the evidence $B$ under all possible hypotheses. It is often calculated using the **Law of Total Probability**.\n",
        "* **$P(A|B)$ (Posterior Probability):** This is what we want to know: the probability of the hypothesis $A$ being true **given** the observed evidence $B$.\n",
        "* **$P(B|A)$ (Likelihood):** This indicates the compatibility of the evidence $B$ with the specific hypothesis $A$."
      ],
      "metadata": {
        "id": "AQBZCgC_TIT0"
      }
    },
    {
      "cell_type": "markdown",
      "source": [
        "## Instructions\n",
        "\n",
        "1. Memorize **Bayes' Theorem** $P(A|B) = \\frac{P(A)P(B|A)}{P(B)}$\n",
        "\n",
        "2.  **Write down the basic structure of Bayes' Theorem** in terms of $A$ and $B$. $P(A|B) = \\frac{P(A)P(B|A)}{P(B)}$\n",
        "\n",
        "3.  **Define $A$ and $B$ in Terms of the Problem:** Clearly define what events $A$ and $B$ represent using the specific terms from the word problem.\n",
        "\n",
        "4.  **Identify Known Probabilities:** For each probability component—$P(A)$, $P(B)$, $P(B|A)$, and $P(A|B)$—state the term in the context of the word problem (e.g., $P(\\text{Flood} | \\text{Rain})$). Then, state the known numerical values for what you know given the word problem. You are solving for P(A|B). You may also need to solve for P(B) using the following formula: $P(B) = (P(A) * P(B|A)) + (P(\\bar{A}) * P(B|\\bar{A}))$\n",
        "\n",
        "5.  **Complete the Walk-Through for Each Problem:** Show the step-by-step calculations, first to find $P(B)$ (if unknown), and then to find the final answer (the posterior probability), $P(A|B)$.\n",
        "\n",
        "*Review the 3 examples provided before starting the 5 problems.*"
      ],
      "metadata": {
        "id": "_YZz-mmgUoIc"
      }
    },
    {
      "cell_type": "markdown",
      "source": [
        "## Examples"
      ],
      "metadata": {
        "id": "1q3a4xXAUMD7"
      }
    },
    {
      "cell_type": "markdown",
      "metadata": {
        "id": "53572636"
      },
      "source": [
        "#### Example 1\n",
        "\n",
        "It has started raining. It rains 10% of the time. We know that flooding can happen when it rains but it is rare. Flooding happnes 1% of the time. 90% of the time it floods we see rain. What's the probability of a flood given rain?<br />\n",
        "\n",
        "Review the equation:\n",
        "* P(A|B) = (P(A)P(B|A)) / P(B)\n",
        "* P(Flood|Rain) = (P(Flood)P(Rain|Flood)) / P(Rain)\n",
        "\n",
        "What we know:\n",
        "* P(A) = P(Flood) = .01\n",
        "* P(B) = P(Rain) = .1\n",
        "* P(B|A) = P(Rain|Flood) = .9\n"
      ]
    },
    {
      "cell_type": "code",
      "execution_count": null,
      "metadata": {
        "id": "305da8c9",
        "outputId": "535c4885-d737-4f37-9304-0cc6b83aa668"
      },
      "outputs": [
        {
          "data": {
            "text/plain": [
              "0.09000000000000001"
            ]
          },
          "execution_count": 31,
          "metadata": {},
          "output_type": "execute_result"
        }
      ],
      "source": [
        "# solve\n",
        ".01*.9/.1"
      ]
    },
    {
      "cell_type": "markdown",
      "metadata": {
        "id": "64594915"
      },
      "source": [
        "**Answer**: Expect flooding 9% of the time if it starts raining"
      ]
    },
    {
      "cell_type": "markdown",
      "source": [
        "To solve the rain-flood problem using our confusion matrix contingency table, we must first determine the frequencies for **True Negatives (TN), False Positives (FP), False Negatives (FN),** and **True Positives (TP)** based on the provided probabilities.\n",
        "\n",
        "We will use a hypothetical total of **10,000 days** for clarity.\n",
        "\n",
        "* **A** = Flood (Actual Positive)\n",
        "* **B** = Rain (Observed Evidence/Prediction)\n",
        "\n",
        "TP, TN, FP, and FN are the four components of a **Contingency Table** (or **Confusion Matrix**), which is used to evaluate the performance of a classification system (like a test, model, or simple observation).\n",
        "\n",
        "These calculations rely on the **Actual** state (truth) and the **Predicted** state (observation/test result) and are typically expressed as counts or frequencies based on a total number of trials.\n",
        "\n",
        "**Contingency Table Structure**\n",
        "\n",
        "**Rows are Actuals** and **Columns are Predictions**:\n",
        "\n",
        "| | **Predicted Negative ($\\bar{B}$)** | **Predicted Positive ($B$)** |\n",
        "| :--- | :--- | :--- |\n",
        "| **Actual Negative ($\\bar{A}$)** | **True Negative (TN)** | **False Positive (FP)** |\n",
        "| **Actual Positive ($A$)** | **False Negative (FN)** | **True Positive (TP)** |\n",
        "\n",
        "**True Negatives (TN)**\n",
        "\n",
        "* **Definition:** The count of instances where the **Actual condition is negative** ($\\bar{A}$) and the **Prediction is negative** ($\\bar{B}$). Howm many times the test was **correct**.\n",
        "* **Context:** The number of days when **NO Flood occurred AND No Rain was observed**.\n",
        "* **Calculation:**\n",
        "    $$\\text{TN} = \\text{Total Actual Negatives} - \\text{FP}$$\n",
        "    $$\\text{TN} = (N \\times P(\\bar{A})) - \\text{FP}$$\n",
        "    $$\\text{TN} = 9,900 - 910 = \\mathbf{8,990}$$\n",
        "\n",
        "**False Positives (FP)**\n",
        "\n",
        "* **Definition:** The count of instances where the **Actual condition is negative** ($\\bar{A}$) but the **Prediction is positive** ($B$). The test was **incorrect**. (Also known as a **Type I Error**).\n",
        "* **Context:** The number of days when **NO Flood occurred BUT Rain was observed**.\n",
        "* **Calculation (Using Marginal Probability, $P(B)$):**\n",
        "    $$\\text{FP} = \\text{Total Predictions Positive} - \\text{TP}$$\n",
        "    $$\\text{FP} = (N \\times P(B)) - \\text{TP}$$\n",
        "    $$\\text{FP} = (10,000 \\times 0.10) - 90 = 1,000 - 90 = \\mathbf{910}$$\n",
        "\n",
        "**False Negatives (FN)**\n",
        "\n",
        "* **Definition:** The count of instances where the **Actual condition is positive** ($A$) but the **Prediction is negative** ($\\bar{B}$). The test **missed** the event. (Also known as a **Type II Error**).\n",
        "* **Context:** The number of days when a **Flood occurred BUT No Rain was observed**.\n",
        "* **Calculation:**\n",
        "    $$\\text{FN} = \\text{Total Actual Positives} - \\text{TP}$$\n",
        "    $$\\text{FN} = (N \\times P(A)) - \\text{TP}$$\n",
        "    $$\\text{FN} = 100 - 90 = \\mathbf{10}$$\n",
        "\n",
        "**True Positives (TP)**\n",
        "\n",
        "* **Definition:** The count of instances where the **Actual condition is positive** ($A$) and the **Prediction is positive** ($B$). The test was **correct**.\n",
        "* **Context:** The number of days when a **Flood occurred AND Rain was observed**.\n",
        "* **Calculation:**\n",
        "    $$\\text{TP} = \\text{Total Actual Positives} \\times P(\\text{Prediction Positive } | \\text{Actual Positive})$$\n",
        "    $$\\text{TP} = N \\times P(A) \\times P(B|A)$$\n",
        "    $$\\text{TP} = 10,000 \\times 0.01 \\times 0.90 = \\mathbf{90}$$\n",
        "\n",
        "\n",
        "**Contingency Table (TN, FP, FN, TP Arrangement)**\n",
        "\n",
        "| | **No Rain ($\\bar{B}$ / Negative)** | **Rain ($B$ / Positive)** | **Total Actuals** |\n",
        "| :--- | :--- | :--- | :--- |\n",
        "| **No Flood ($\\bar{A}$ / Negative)** | **8,990 (TN)** | **910 (FP)** | 9,900 |\n",
        "| **Flood ($A$ / Positive)** | **10 (FN)** | **90 (TP)** | 100 |\n",
        "| **Total Predictions** | 9,000 | 1,000 | 10,000 |\n",
        "\n",
        "**Precision P(A|B) - Solution to the Flood Problem**\n",
        "\n",
        "The question asks for **$P(\\text{Flood } | \\text{Rain})$**, which is the **Precision** (or Posterior Probability).\n",
        "\n",
        "Using the table, Precision is the proportion of True Positives out of all Positive Predictions (Total Rain):\n",
        "\n",
        "$$P(\\text{Flood } | \\text{Rain}) = \\frac{\\text{True Positives}}{\\text{True Positives} + \\text{False Positives}} = \\frac{\\text{TP}}{\\text{Total Rain}}$$\n",
        "\n",
        "$$P(\\text{Flood } | \\text{Rain}) = \\frac{90}{1,000} = \\mathbf{0.09}$$\n",
        "\n",
        "The probability of a flood given rain is $\\mathbf{9\\%}$.\n",
        "\n",
        "**Recall P(B|A)** (also known as Sensitivity or the True Positive Rate) measures the probability that an actual positive event ($A$, a Flood) is correctly observed by the evidence ($B$, Rain).\n",
        "\n",
        "In the context of conditional probability, **Recall is the Likelihood, $P(B|A)$**, which is directly given in the problem statement.\n",
        "\n",
        "$$\\text{Recall} = P(\\text{Rain} | \\text{Flood}) = \\frac{\\text{True Positives}}{\\text{True Positives} + \\text{False Negatives}}$$\n",
        "\n",
        "From the given information:\n",
        "$$\\text{Recall} = P(\\text{Rain} | \\text{Flood}) = \\mathbf{0.90}$$\n",
        "\n",
        "Using the contingency table frequencies from the previous step:\n",
        "$$\\text{Recall} = \\frac{\\text{TP}}{\\text{TP} + \\text{FN}} = \\frac{90}{90 + 10} = \\frac{90}{100} = \\mathbf{0.90}$$\n",
        "\n",
        "**Interpretation:** When a flood *actually* occurs, rain is observed $90\\%$ of the time.\n",
        "\n",
        "We want to know Recall because it is a critical measure of the **completeness** or **coverage** of the observation (rain) relative to the actual condition (flood).\n",
        "\n",
        "In risk and safety-related scenarios like the rain-flood example, Recall tells us:\n",
        "\n",
        "1.  **Detection Effectiveness:** It indicates how good rain is as a warning sign for *all* floods. A high recall (like $90\\%$) means that most floods are accompanied by rain, so the absence of rain is a reliable indicator that a flood likely did **not** occur.\n",
        "2.  **Minimizing Missed Events (False Negatives):** In contexts like medicine, finance, or safety systems, a high recall is prioritized to minimize **False Negatives (FN)**—the number of actual events (floods, diseases, security breaches) that were missed or not observed. In the table, the False Negatives were only 10 out of 100 floods.\n",
        "\n",
        "In contrast, **Precision** (which was $9\\%$) tells us how *reliable* an observed instance of rain is as a predictor of a flood. Because the **Prior** (P(A))probability of a flood is so low ($1\\%$), the low Precision shows that while rain is effective at accompanying floods (high Recall), rain usually happens without a flood (low Precision).\n",
        "\n",
        "1.  **Precision and Reliability:** **Precision** ($P(\\text{Flood } | \\text{Rain}) = 9\\%$) measures the **reliability** of the evidence (rain). The low $9\\%$ value means that if you observe rain, there's only a $9\\%$ chance it's actually accompanied by a flood. This confirms the statement: \"rain usually happens without a flood (low Precision).\"\n",
        "\n",
        "2.  **Recall and Effectiveness:** **Recall** ($P(\\text{Rain } | \\text{Flood}) = 90\\%$) measures the test's effectiveness at catching actual events. The high $90\\%$ value confirms the statement: \"rain is observed when a flood is present (high Recall).\"\n",
        "\n",
        "3.  **The Role of the Prior:** The explanation correctly identifies that the low **Prior Probability** ($P(A) = 1\\%$) is the primary reason for the huge gap between Recall ($90\\%$) and Precision ($9\\%$). Since floods are rare and since floods are what we are trying to predict, most instances of rain are *False Positives* in terms of predicting a flood (rain without a flood), which severely drags the Precision down.\n",
        "\n",
        "**Base Rate Fallacy**\n",
        "\n",
        "The **Base Rate Fallacy** perfectly explains the counter-intuitive result in the flood problem and is the central reason why the **Precision** is so low despite the high **Recall**.\n",
        "\n",
        "In the flood problem, the core data points are:\n",
        "\n",
        "1.  **Base Rate (Prior):** $P(\\text{Flood}) = \\mathbf{1\\%}$\n",
        "2.  **Specific Evidence (Likelihood/Recall):** $P(\\text{Rain } | \\text{Flood}) = \\mathbf{90\\%}$\n",
        "3.  **Result (Precision/Posterior):** $P(\\text{Flood } | \\text{Rain}) = \\mathbf{9\\%}$\n",
        "\n",
        "When most people are presented with this problem, their intuition tends to focus entirely on the high **$90\\%$ Recall** (the specific evidence: \"Rain is a good companion to a flood\"). They think, \"If it rains, the probability of a flood should be close to $90\\%$.\"\n",
        "\n",
        "**The Base Rate Fallacy is the act of ignoring the $1\\%$ prior.**\n",
        "\n",
        "* Because the **actual rate of floods is only $1\\%$**, the vast majority of days (the $99\\%$ base rate of non-flood days) are the source of most observed rain.\n",
        "* Even though the rain observation is $90\\%$ effective at *catching* a flood (high Recall), the **$99\\%$ of non-flood days** overpower this $90\\%$ success rate.\n",
        "* The $910$ **False Positives** (rain with no flood) generated from the large base rate of non-flood days completely swamp the $90$ **True Positives** (rain with flood).\n",
        "\n",
        "Therefore, the final probability of $9\\%$ shows that our intuition is flawed because it neglected the **low base rate, P(A),** that limits how often a true event can actually occur. Bayes' Theorem corrects this intuitive error by systematically incorporating the base rate."
      ],
      "metadata": {
        "id": "7c64nQmpuaj8"
      }
    },
    {
      "cell_type": "markdown",
      "metadata": {
        "id": "95bfdad7"
      },
      "source": [
        "#### Example 2\n",
        "\n",
        "A company makes clocks. 1% of the clocks are broken. The company tests for broken clocks and the test identifies a broken clock when it is broken 90% of the time. Unfortunately, the test also identifies a broken clock when it is not defective 9.6% of the time. If a clock tests as broken what's the probability that the clock is actually broken?\n",
        "\n",
        "What we know:\n",
        "* $P(A)$ = P(defective clock) = .01\n",
        "* $P(\\bar{A})$ = P(not defective clock) = .99\n",
        "* $P(B|A)$ = P(test identifies defect| defective clock) = .9\n",
        "* $P(B|\\bar{A})$ = P(test identifies defect| not defective clock) = .096\n",
        "\n",
        "Review the equation:\n",
        "* P(A|B) = (P(A)P(B|A)) / P(B)\n",
        "* P(defective clock| test identifies defect) = (P(defective clock) * P(test identifies defect| defected clock)) / P(B)\n",
        "\n",
        "Sovlve for P(B):\n",
        "* $P(B) = (P(A) * P(B|A)) + (P(\\bar{A}) * P(B|\\bar{A}))$\n",
        "* P(B) = (P(defective clock) * P(test identifies defect| defected clock)) + (P(not defective clock) * P(test identifies defect| not defected clock))\n",
        "* = (.01 * .9) + (.99 * .096)\n",
        "\n",
        "P(A|B) = (.01 * .9)/((.01 * .9) + (.99 * .096)) = .009/(.009+.09504) = 0.08651"
      ]
    },
    {
      "cell_type": "code",
      "execution_count": null,
      "metadata": {
        "id": "367538e2",
        "outputId": "5fdf7f87-a3a1-40aa-e530-7b138e009118"
      },
      "outputs": [
        {
          "data": {
            "text/plain": [
              "0.0865051903114187"
            ]
          },
          "execution_count": 32,
          "metadata": {},
          "output_type": "execute_result"
        }
      ],
      "source": [
        "# solve\n",
        "(.01 * .9)/((.01 * .9) + (.99 * .096))"
      ]
    },
    {
      "cell_type": "markdown",
      "source": [
        "**Answer**: The probability of A given B is about 0.0865"
      ],
      "metadata": {
        "id": "mls1pmrWmdlH"
      }
    },
    {
      "cell_type": "markdown",
      "metadata": {
        "id": "a08aa176"
      },
      "source": [
        "#### Example 3\n",
        "\n",
        "One hundred students enrolled in class and the administration had to divide into two classes. 60 students went into class 1 and 40 students went into class 2. We know that 2% of the students in class 1 are failing and 1.5% of the students are failing in class 2. All one hundred students went on a field trip during midterm. One student was randomly chosen and asked how things were going. Turns out this student is failing. What's the probability that this student is from class 1?\n",
        "\n",
        "What we know:\n",
        "* $P(A)$ = P(students in class 1) = .6\n",
        "* $P(\\bar{A})$ = P(students in class 2) = .4\n",
        "* $P(B)$ = failing\n",
        "* $P(B|A)$ = P(failing|class1) = .02\n",
        "* $P(B|\\bar{A})$ = P(failing|class2) = .015\n",
        "\n",
        "Equation review for P(B):\n",
        "* $P(B) = (P(A) * P(B|A)) + (P(\\bar{A}) * P(B|\\bar{A}))$\n",
        "* P(B) = (0.6 * 0.2) + (0.4 * 0.015) = 0.012 + 0.006 = 0.018<br />\n",
        "\n",
        "P(A|B) = (0.6 * 0.02) / ((0.6 * 0.02) + (0.4 * 0.015))"
      ]
    },
    {
      "cell_type": "code",
      "execution_count": null,
      "metadata": {
        "id": "fab2c3a8",
        "outputId": "44b29e6c-e3b3-4571-ce32-f90242052c0f"
      },
      "outputs": [
        {
          "data": {
            "text/plain": [
              "0.6666666666666666"
            ]
          },
          "execution_count": 33,
          "metadata": {},
          "output_type": "execute_result"
        }
      ],
      "source": [
        "# solve\n",
        "(.02 * 0.6) / ((.02 * 0.6) + (0.015 * 0.4))"
      ]
    },
    {
      "cell_type": "markdown",
      "source": [
        "**Answer**: The probability of A given B is about 0.67"
      ],
      "metadata": {
        "id": "BrwaQGnSmNTm"
      }
    },
    {
      "cell_type": "markdown",
      "source": [
        "## Problems"
      ],
      "metadata": {
        "id": "JdA-SABCUcPm"
      }
    },
    {
      "cell_type": "markdown",
      "source": [
        "### Problem 1: Medical Diagnosis\n",
        "\n",
        "A rare disease (Disease $D$) affects $\\mathbf{0.5\\%}$ of the population. A test for this disease is highly accurate:\n",
        "* If a person **has** the disease, the test correctly returns a **positive** result $\\mathbf{99\\%}$ of the time (True Positive Rate).\n",
        "* If a person **does not have** the disease, the test incorrectly returns a **positive** result $\\mathbf{2\\%}$ of the time (False Positive Rate).\n",
        "\n",
        "If a randomly selected person tests **positive** for the disease, what is the probability that they **actually have** the disease?\n",
        "\n",
        "**Let:**\n",
        "* $A$ = The event that the person has the Disease ($D$).\n",
        "* $B$ = The event that the test is Positive ($+$).\n",
        "* $\\bar{A}$ = The event that the person does not have the disease.\n",
        "\n",
        "**Review the equation:**\n",
        "$$P(A|B) = \\frac{P(A)P(B|A)}{P(B)}$$\n",
        "$$P(D|+) = \\frac{P(D)P(+|D)}{P(+)}$$"
      ],
      "metadata": {
        "id": "v27jEYFTTdwj"
      }
    },
    {
      "cell_type": "markdown",
      "source": [
        "**What we know (answer the following and show your work):**\n",
        "* $\\mathbf{P(A)}$ =\n",
        "* $\\mathbf{P(\\bar{A})}$ =\n",
        "* $\\mathbf{P(B|A)}$ (Likelihood: probability of positive test given disease) =\n",
        "* $\\mathbf{P(B|\\bar{A})}$ (Probability of positive test given no disease) =\n",
        "\n"
      ],
      "metadata": {
        "id": "yUt30YzgbAqn"
      }
    },
    {
      "cell_type": "markdown",
      "source": [
        "**Walk-Through (answer the following and show your work)**\n",
        "\n",
        "**Solve for $P(B)$ (Marginal Likelihood/Evidence):**\n",
        "* $P(B) = P(A)P(B|A) + P(\\bar{A})P(B|\\bar{A})$\n",
        "* $P(B) = $\n",
        "\n",
        "**Calculate $P(A|B)$ (Posterior Probability):**\n",
        "* $P(A|B) = \\frac{P(A)P(B|A)}{P(B)}$\n",
        "* $P(A|B) = $"
      ],
      "metadata": {
        "id": "iVtDYlD2bZVd"
      }
    },
    {
      "cell_type": "code",
      "source": [
        "# calculation\n"
      ],
      "metadata": {
        "id": "Y7vblgUjb-3P"
      },
      "execution_count": null,
      "outputs": []
    },
    {
      "cell_type": "markdown",
      "source": [
        "**Answer:** If a person tests positive, the probability they actually have the disease is approximately _______."
      ],
      "metadata": {
        "id": "paVJzqVXcBk7"
      }
    },
    {
      "cell_type": "markdown",
      "source": [
        "### Problem 2: Email Spam Filter\n",
        "\n",
        "A certain email system classifies $\\mathbf{85\\%}$ of all emails as **legitimate** (not spam) and $\\mathbf{15\\%}$ as **spam**. The filter has the following performance:\n",
        "* If an email is **actually spam** ($\\bar{A}$), the filter correctly identifies it as spam ($\\mathbf{B}$) $\\mathbf{98\\%}$ of the time.\n",
        "* If an email is **legitimate** ($A$), the filter incorrectly identifies it as spam ($\\mathbf{B}$) $\\mathbf{4\\%}$ of the time.\n",
        "\n",
        "If an incoming email is classified as **spam** by the filter, what is the probability that it is **actually a legitimate** email?\n",
        "\n",
        "**Let:**\n",
        "* $A$ = The email is **Legitimate**.\n",
        "* $\\bar{A}$ = The email is **Spam**.\n",
        "* $B$ = The filter classifies the email as **Spam**.\n",
        "\n"
      ],
      "metadata": {
        "id": "84a6uOftTlaa"
      }
    },
    {
      "cell_type": "markdown",
      "source": [
        "**Review the equation (answer the following and show your work):**\n",
        "* $P(A|B) = \\frac{P(A)P(B|A)}{P(B)}$\n",
        "* $P(\\text{Legitimate } |\\text{Filter Spam}) = $\n",
        "\n",
        "**What we know (answer the following and show your work):**\n",
        "* $\\mathbf{P(A)}$ (Prior probability of being legitimate) =\n",
        "* $\\mathbf{P(\\bar{A})}$ =\n",
        "* $\\mathbf{P(B|A)}$ (Likelihood: False positive rate) =\n",
        "* $\\mathbf{P(B|\\bar{A})}$ (True positive rate for spam detection) ="
      ],
      "metadata": {
        "id": "-z6BOscHdgYd"
      }
    },
    {
      "cell_type": "markdown",
      "source": [
        "**Walk-Through (answer the following and show your work)**\n",
        "\n",
        "**Solve for $P(B)$ (Marginal Likelihood/Evidence):**\n",
        "* The total probability of the filter classifying an email as spam ($P(B)$) is the sum of the probabilities of a false positive and a true positive.\n",
        "* $P(B) = P(A)P(B|A) + P(\\bar{A})P(B|\\bar{A})$\n",
        "* $ P(B) = $\n",
        "\n",
        "**Calculate $P(A|B)$ (Posterior Probability):**\n",
        "* $P(A|B) = \\frac{P(A)P(B|A)}{P(B)}$\n",
        "* $P(A|B) = $"
      ],
      "metadata": {
        "id": "fmLud6tMdkv5"
      }
    },
    {
      "cell_type": "code",
      "source": [
        "# calculation"
      ],
      "metadata": {
        "id": "k16qbUDETrQn"
      },
      "execution_count": null,
      "outputs": []
    },
    {
      "cell_type": "markdown",
      "source": [
        "**Answer:** If the filter classifies an email as spam, the probability that it is actually a legitimate email is _____."
      ],
      "metadata": {
        "id": "RQQzknsGdoaX"
      }
    },
    {
      "cell_type": "markdown",
      "source": [
        "***\n",
        "\n",
        "### Problem 3: Quality Control in Manufacturing\n",
        "\n",
        "A factory uses two machines, $M_1$ and $M_2$, to produce $60\\%$ and $40\\%$ of the total output, respectively. The rate of defective items produced by the machines are:\n",
        "* $M_1$ produces $\\mathbf{2\\%}$ defective items.\n",
        "* $M_2$ produces $\\mathbf{3\\%}$ defective items.\n",
        "\n",
        "An inspector randomly selects an item and finds that it is **defective** ($B$). What is the probability that this defective item was produced by **Machine $M_2$** ($A_2$)?\n",
        "\n",
        "**Let:**\n",
        "* $A_1$ = The item was produced by **Machine $M_1$**.\n",
        "* $A_2$ = The item was produced by **Machine $M_2$**.\n",
        "* $B$ = The item is **Defective**.\n",
        "\n",
        "**Review the equation (for $A_2$):**\n",
        "$$P(A_2|B) = \\frac{P(A_2)P(B|A_2)}{P(B)}$$\n",
        "\n",
        "\n"
      ],
      "metadata": {
        "id": "hf5qf-xiTr2c"
      }
    },
    {
      "cell_type": "markdown",
      "source": [
        "**What we know:**\n",
        "* $\\mathbf{P(A_1)}$ = $P(M_1)$ = $\\mathbf{0.60}$ (Prior probability of being from $M_1$)\n",
        "* $\\mathbf{P(A_2)}$ = $P(M_2)$ = $\\mathbf{0.40}$ (Prior probability of being from $M_2$)\n",
        "* $\\mathbf{P(B|A_1)}$ = $P(\\text{Defective } | M_1)$ = $\\mathbf{0.02}$ (Likelihood for $M_1$)\n",
        "* $\\mathbf{P(B|A_2)}$ = $P(\\text{Defective } | M_2)$ = $\\mathbf{0.03}$ (Likelihood for $M_2$)\n",
        "\n",
        "**Walk-Through (answer the following and show your work)**\n",
        "\n",
        "**Solve for $P(B)$ (Marginal Likelihood/Evidence):**\n",
        "* The total probability of an item being defective ($P(B)$) is the sum of defective items from each machine:\n",
        "* $P(B) = P(A_1)P(B|A_1) + P(A_2)P(B|A_2)$\n",
        "* $P(B) = $\n",
        "\n",
        "2.  **Calculate $P(A_2|B)$ (Posterior Probability):**\n",
        "* $P(A_2|B) = \\frac{P(A_2)P(B|A_2)}{P(B)}$\n",
        "* $P(A_2|B) = $"
      ],
      "metadata": {
        "id": "GR3YbLqXg6Na"
      }
    },
    {
      "cell_type": "code",
      "source": [],
      "metadata": {
        "id": "lu8x3FcaT7u-"
      },
      "execution_count": null,
      "outputs": []
    },
    {
      "cell_type": "markdown",
      "source": [
        "**Answer:** Given that the item is defective, the probability that it came from Machine $M_2$ is _____."
      ],
      "metadata": {
        "id": "h8wxQF-tg9NI"
      }
    },
    {
      "cell_type": "markdown",
      "source": [
        "### Problem 4: Card Selection\n",
        "\n",
        "In a statistics class, two boxes are available for an experiment:\n",
        "* **Box 1** ($A_1$) contains 6 red cards and 4 blue cards.\n",
        "* **Box 2** ($A_2$) contains 2 red cards and 8 blue cards.\n",
        "\n",
        "A fair coin is flipped: if it's **Heads**, Box 1 is chosen; if it's **Tails**, Box 2 is chosen. A card is drawn from the selected box and is found to be **Red** ($B$). What is the probability that the card came from **Box 1**?\n",
        "\n",
        "**Let:**\n",
        "* $A_1$ = The event that **Box 1** is chosen.\n",
        "* $A_2$ = The event that **Box 2** is chosen.\n",
        "* $B$ = The event that a **Red** card is drawn.\n",
        "\n",
        "**Review the equation (for $A_1$):**\n",
        "* $P(A_1|B) = \\frac{P(A_1)P(B|A_1)}{P(B)}$\n"
      ],
      "metadata": {
        "id": "zp3PbzftT8b0"
      }
    },
    {
      "cell_type": "markdown",
      "source": [
        "**What we know (answer the following and show your work):**\n",
        "* $\\mathbf{P(A_1)}$ = $P(\\text{Box 1})$ (Prior probability of choosing Box 1, due to fair coin) =\n",
        "* $\\mathbf{P(A_2)}$ = $P(\\text{Box 2})$ =\n",
        "* $\\mathbf{P(B|A_1)}$ = $P(\\text{Red } | \\text{Box 1})$ =\n",
        "* $\\mathbf{P(B|A_2)}$ = $P(\\text{Red } | \\text{Box 2})$ =\n",
        "\n",
        "**Walk-Through**\n",
        "\n",
        "1.  **Solve for $P(B)$ (Marginal Likelihood/Evidence):**\n",
        "* The total probability of drawing a **Red** card ($P(B)$) is the sum of the probabilities of drawing a Red card from Box 1 and drawing a Red card from Box 2:\n",
        "* $P(B) = P(A_1)P(B|A_1) + P(A_2)P(B|A_2)$\n",
        "* $P(B) = $\n",
        "\n",
        "2.  **Calculate $P(A_1|B)$ (Posterior Probability):**\n",
        "* $P(A_1|B) = \\frac{P(A_1)P(B|A_1)}{P(B)}$\n",
        "* $P(A_1|B) = $\n",
        "\n"
      ],
      "metadata": {
        "id": "2SgAmDqxiMIx"
      }
    },
    {
      "cell_type": "code",
      "source": [
        "# calcualations"
      ],
      "metadata": {
        "id": "hUh_GlppTw3r"
      },
      "execution_count": null,
      "outputs": []
    },
    {
      "cell_type": "markdown",
      "source": [
        "**Answer:** Given that the card drawn is Red, the probability that it came from Box 1 is _____."
      ],
      "metadata": {
        "id": "ovfxK6YSiQd9"
      }
    },
    {
      "cell_type": "markdown",
      "source": [
        "### Problem 5: Insurance Claim Fraud\n",
        "\n",
        "An insurance company knows that $\\mathbf{1\\%}$ of all claims are **fraudulent** ($A$). The company uses a sophisticated algorithm to check for suspicious claims ($B$). Historical performance shows:\n",
        "* The algorithm correctly flags a claim as suspicious when it is **fraudulent** $\\mathbf{95\\%}$ of the time.\n",
        "* The algorithm incorrectly flags a claim as suspicious when it is **legitimate** ($\\bar{A}$) $\\mathbf{5\\%}$ of the time.\n",
        "\n",
        "If the algorithm flags a claim as **suspicious**, what is the probability that the claim is **actually fraudulent**?\n",
        "\n",
        "**Let:**\n",
        "* $A$ = The event that the claim is **Fraudulent**.\n",
        "* $\\bar{A}$ = The event that the claim is **Legitimate**.\n",
        "* $B$ = The event that the claim is flagged as **Suspicious**.\n",
        "\n",
        "**Review the equation (answer the following and show your work):**\n",
        "* $P(A|B) = \\frac{P(A)P(B|A)}{P(B)}$\n",
        "* $P(\\text{Fraudulent } |\\text{Suspicious}) = $\n",
        "\n",
        "**What we know:**\n",
        "* $\\mathbf{P(A)}$ = $P(\\text{Fraudulent})$ (Prior probability of fraud) =\n",
        "* $\\mathbf{P(\\bar{A})}$ =\n",
        "* $\\mathbf{P(B|A)}$ (Likelihood: True positive rate) =\n",
        "* $\\mathbf{P(B|\\bar{A})}$ = $P(\\text{Suspicious } |\\text{Legitimate})$ (False positive rate) =\n",
        "\n",
        "**Walk-Through**\n",
        "\n",
        "1.  **Solve for $P(B)$ (Marginal Likelihood/Evidence):**\n",
        "* The total probability of a claim being flagged as suspicious ($P(B)$) is the sum of a true positive flag and a false positive flag.\n",
        "* $P(B) = P(A)P(B|A) + P(\\bar{A})P(B|\\bar{A})$\n",
        "* $P(B) = $\n",
        "\n",
        "2.  **Calculate $P(A|B)$ (Posterior Probability):**\n",
        "* $P(A|B) = \\frac{P(A)P(B|A)}{P(B)}$\n",
        "* $P(A|B) = $\n",
        "\n"
      ],
      "metadata": {
        "id": "0hLHpNnwTxer"
      }
    },
    {
      "cell_type": "code",
      "source": [
        "# calculations"
      ],
      "metadata": {
        "id": "2kEqB42clLBv"
      },
      "execution_count": null,
      "outputs": []
    },
    {
      "cell_type": "markdown",
      "source": [
        "**Answer:** If the algorithm flags a claim as suspicious, the probability that the claim is actually fraudulent is _____."
      ],
      "metadata": {
        "id": "gadGIUWylN3k"
      }
    }
  ]
}