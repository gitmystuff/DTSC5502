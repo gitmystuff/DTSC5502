{
  "nbformat": 4,
  "nbformat_minor": 0,
  "metadata": {
    "colab": {
      "provenance": [],
      "toc_visible": true,
      "authorship_tag": "ABX9TyPa+on1utGqk06eh8HJmmTQ",
      "include_colab_link": true
    },
    "kernelspec": {
      "name": "python3",
      "display_name": "Python 3"
    },
    "language_info": {
      "name": "python"
    }
  },
  "cells": [
    {
      "cell_type": "markdown",
      "metadata": {
        "id": "view-in-github",
        "colab_type": "text"
      },
      "source": [
        "<a href=\"https://colab.research.google.com/github/gitmystuff/DTSC5502/blob/main/Module_10-Auto_Regression/Pandas_Time_Series.ipynb\" target=\"_parent\"><img src=\"https://colab.research.google.com/assets/colab-badge.svg\" alt=\"Open In Colab\"/></a>"
      ]
    },
    {
      "cell_type": "markdown",
      "source": [
        "# Pandas Time Series\n",
        "\n",
        "Name"
      ],
      "metadata": {
        "id": "PDyuUWnWK2fc"
      }
    },
    {
      "cell_type": "markdown",
      "source": [
        "## Getting Started\n",
        "\n",
        "* Colab - get notebook from gitmystuff DTSC5502 repository\n",
        "* Save a Copy in Drive\n",
        "* Remove Copy of\n",
        "* Submit shared link in Canvas"
      ],
      "metadata": {
        "id": "G2yZNpGeLDe5"
      }
    },
    {
      "cell_type": "markdown",
      "source": [
        "### Euler's Number (e) and How to Become a Millionaire\n",
        "\n",
        "* $e = 1 + 1/1 + 1/2 + 1/3! + 1/4! + ... $\n",
        "* Compound interest (like exponential growth) $FV = PV e^{rt}$\n",
        "* where FV is Future Value, PV is Present Value, e is Euler's Number, r is Interest Rate Compounded, and t is time"
      ],
      "metadata": {
        "id": "_osj3F7-mQPZ"
      }
    },
    {
      "cell_type": "code",
      "source": [
        "# # $1000 investment with 2% interest over 3 years\n",
        "# import numpy as np\n",
        "\n",
        "# 1000 * np.exp(0.02 * 3)"
      ],
      "metadata": {
        "id": "jNN_oO7BnMEH"
      },
      "execution_count": null,
      "outputs": []
    },
    {
      "cell_type": "code",
      "source": [
        "# # Investing $1000 with 10 percent continuous compound interest over 40 years\n",
        "# import numpy as np\n",
        "# import matplotlib.pyplot as plt\n",
        "\n",
        "# x = np.linspace(1, 40, 40)\n",
        "\n",
        "# # continuous\n",
        "# y = 1000 * np.exp(.1*x)\n",
        "# plt.scatter(x, y, label='continuous')\n",
        "# print(max(y))\n",
        "\n",
        "# # discrete\n",
        "# y = 1000 * (1 + .1)**(x)\n",
        "# plt.scatter(x, y, label='discrete')\n",
        "# print(max(y))\n",
        "# plt.legend();"
      ],
      "metadata": {
        "id": "FllWV3xYgHNE"
      },
      "execution_count": null,
      "outputs": []
    },
    {
      "cell_type": "code",
      "source": [
        "# # 10 percent compound interest over 50 years and annual contributions of $2400 (monthly $200 contributions)\n",
        "# # https://math.stackexchange.com/questions/4475485/compound-interest-including-contributions\n",
        "# import numpy as np\n",
        "# import matplotlib.pyplot as plt\n",
        "\n",
        "# x = np.linspace(1, 40, 40)\n",
        "\n",
        "# y = (1000*(1.1)**x) + (2400/.1)*((1.1)**x - 1)\n",
        "# plt.scatter(x, y);\n",
        "# print((1000*(1.1)**40) + (2400/.1)*((1.1)**40 - 1))"
      ],
      "metadata": {
        "id": "A8Dgk9wJo02B"
      },
      "execution_count": null,
      "outputs": []
    },
    {
      "cell_type": "markdown",
      "source": [
        "## Major Techs vs DOW"
      ],
      "metadata": {
        "id": "O9bdtzLgD9JP"
      }
    },
    {
      "cell_type": "code",
      "execution_count": null,
      "metadata": {
        "id": "ptI0L7xcKj1G"
      },
      "outputs": [],
      "source": [
        "# import yfinance as yf\n",
        "# import pandas as pd\n",
        "# import matplotlib.pyplot as plt\n",
        "\n",
        "# # Define the tickers for the market indices and individual companies\n",
        "# tickers = [\"^GSPC\", \"^DJI\", \"^IXIC\", \"MSFT\", \"AMZN\", \"GOOG\", \"TSLA\"]\n",
        "# # gspc - sp 500\n",
        "# # ixic - nasdaq\n",
        "\n",
        "# # Download historical data for the last 40 years\n",
        "# data = yf.download(tickers, start=\"1983-01-01\", end=\"2024-11-08\")['Adj Close']\n",
        "\n",
        "# # Plot the Adj Close of each ticker\n",
        "# for ticker in tickers:\n",
        "#     plt.plot(data[ticker], label=ticker)\n",
        "\n",
        "# plt.title(\"Growth of Market Indices (Normalized to 100)\")\n",
        "# plt.xlabel(\"Date\")\n",
        "# plt.ylabel(\"Normalized Value\")\n",
        "# plt.legend()\n",
        "# plt.grid(True)\n",
        "# plt.show()"
      ]
    },
    {
      "cell_type": "markdown",
      "source": [
        "## Plotly"
      ],
      "metadata": {
        "id": "eoWTzna_EDSa"
      }
    },
    {
      "cell_type": "code",
      "source": [
        "# import yfinance as yf\n",
        "# import plotly.graph_objects as go\n",
        "\n",
        "# # Define the tickers for the market indices and companies\n",
        "# # tickers = [\"^GSPC\", \"^DJI\", \"^IXIC\", \"MSFT\", \"AMZN\", \"GOOG\", \"TSLA\"]\n",
        "# # gspc - sp 500\n",
        "# # ixic - nasdaq\n",
        "\n",
        "# # Download historical data for the last 40 years\n",
        "# # data = yf.download(tickers, start=\"1983-01-01\", end=\"2024-11-08\")['Adj Close']\n",
        "\n",
        "# # Create a Plotly figure\n",
        "# fig = go.Figure()\n",
        "\n",
        "# # Add traces for each ticker\n",
        "# for ticker in tickers:\n",
        "#     fig.add_trace(go.Scatter(x=data.index, y=data[ticker], mode='lines', name=ticker))\n",
        "\n",
        "# # Update layout\n",
        "# fig.update_layout(\n",
        "#     title=\"Growth of Market Indices and Companies\",\n",
        "#     xaxis_title=\"Date\",\n",
        "#     yaxis_title=\"Adjusted Close Price\",\n",
        "#     hovermode=\"x unified\",\n",
        "#     legend=dict(x=0, y=1, traceorder=\"normal\", font=dict(size=12)),\n",
        "# )\n",
        "\n",
        "# fig.show()"
      ],
      "metadata": {
        "id": "szeHA4dTLXgQ"
      },
      "execution_count": null,
      "outputs": []
    },
    {
      "cell_type": "markdown",
      "source": [
        "* **$\\text{GSPC}$ (Blue Line):** This is the ticker for the **S\\&P 500 Index** (Standard \\& Poor's 500).\n",
        "    * **What it tracks:** It's generally considered the best gauge of the performance of **large-cap U.S. equities** (stocks). It includes 500 of the largest publicly traded companies in the United States.\n",
        "    * **Significance:** It's the most widely followed index by investors and economists to represent the health of the U.S. stock market.\n",
        "\n",
        "* **$\\text{DJI}$ (Red Line):** This is the ticker for the **Dow Jones Industrial Average** (DJIA, or \"the Dow\").\n",
        "    * **What it tracks:** It's an index of **30 significant stocks** traded on the NASDAQ and the New York Stock Exchange (NYSE). It includes well-known, established companies often seen as leaders in their industries.\n",
        "    * **Significance:** While historically important, it is a smaller, price-weighted index, so it doesn't represent the broader market as well as the S\\&P 500.\n",
        "\n",
        "* **$\\text{IXIC}$ (Teal/Green Line):** This is the ticker for the **NASDAQ Composite Index**.\n",
        "    * **What it tracks:** It measures the performance of all **common stocks** listed on the **NASDAQ Stock Market**. This index is heavily weighted toward **technology and growth companies**.\n",
        "    * **Significance:** It's a key indicator for the technology sector and is the most common gauge for \"tech stocks.\"\n"
      ],
      "metadata": {
        "id": "nR6HbeJYUMxF"
      }
    },
    {
      "cell_type": "markdown",
      "source": [
        "### Zoom and Nvidia"
      ],
      "metadata": {
        "id": "CSEvJoN-EHDs"
      }
    },
    {
      "cell_type": "code",
      "source": [
        "# import yfinance as yf\n",
        "# import plotly.graph_objects as go\n",
        "\n",
        "# # Define the tickers for the market indices and companies\n",
        "# tickers = [\"ZM\", \"NVDA\", \"MSFT\", \"AMZN\", \"GOOG\", \"TSLA\"]\n",
        "# data = yf.download(tickers, start=\"2018-01-01\", end=\"2024-11-08\")['Adj Close']\n",
        "\n",
        "# # Create a Plotly figure\n",
        "# fig = go.Figure()\n",
        "\n",
        "# # Add traces for each ticker\n",
        "# for ticker in tickers:\n",
        "#     fig.add_trace(go.Scatter(x=data.index, y=data[ticker], mode='lines', name=ticker))\n",
        "\n",
        "# # Update layout\n",
        "# fig.update_layout(\n",
        "#     title=\"Growth of Market Indices and Companies\",\n",
        "#     xaxis_title=\"Date\",\n",
        "#     yaxis_title=\"Adjusted Close Price\",\n",
        "#     hovermode=\"x unified\",\n",
        "#     legend=dict(x=0, y=1, traceorder=\"normal\", font=dict(size=12)),\n",
        "# )\n",
        "\n",
        "# fig.show()"
      ],
      "metadata": {
        "id": "CEAvLYqWCEGC"
      },
      "execution_count": null,
      "outputs": []
    },
    {
      "cell_type": "markdown",
      "source": [
        "## Pandas TimeDate Object"
      ],
      "metadata": {
        "id": "d7NjMODxLlM6"
      }
    },
    {
      "cell_type": "code",
      "source": [
        "# tickers = [\"^GSPC\", \"^DJI\", \"^IXIC\", \"MSFT\", \"AMZN\", \"GOOG\", \"ZM\", \"NVDA\"]\n",
        "# data = yf.download(tickers, start=\"1990-01-01\", end=\"2024-11-08\")['Adj Close']"
      ],
      "metadata": {
        "id": "YErndaZmMcvd"
      },
      "execution_count": null,
      "outputs": []
    },
    {
      "cell_type": "code",
      "source": [
        "# df = data.copy()\n",
        "# df.reset_index(inplace=True)\n",
        "# df['Date'] = df['Date'].astype(str)\n",
        "# print(df.info())"
      ],
      "metadata": {
        "id": "8sIlOqswQA6n"
      },
      "execution_count": null,
      "outputs": []
    },
    {
      "cell_type": "code",
      "source": [
        "# df.rename(columns={'^DJI': 'DOW', '^GSPC': 'SP500', '^IXIC': 'NASDAQ'}, inplace=True)\n",
        "# df.head()"
      ],
      "metadata": {
        "id": "V5pcvSlHLjbx"
      },
      "execution_count": null,
      "outputs": []
    },
    {
      "cell_type": "markdown",
      "source": [
        "### Setting DateTime Index"
      ],
      "metadata": {
        "id": "PSYeTlnAQ75U"
      }
    },
    {
      "cell_type": "code",
      "execution_count": null,
      "metadata": {
        "scrolled": true,
        "id": "9oXhKS3ACN3u"
      },
      "outputs": [],
      "source": [
        "# df['Date']=pd.to_datetime(df['Date'])\n",
        "# df.dtypes"
      ]
    },
    {
      "cell_type": "code",
      "execution_count": null,
      "metadata": {
        "id": "CsE_NLSpCN3v"
      },
      "outputs": [],
      "source": [
        "# # DON'T WRITE HERE\n",
        "# df.set_index('Date',inplace=True)\n",
        "# df.head()"
      ]
    },
    {
      "cell_type": "code",
      "source": [
        "# df.index = pd.to_datetime(df.index).strftime('%Y-%m-%d')\n",
        "# df.index = pd.to_datetime(df.index)\n",
        "# df.head()"
      ],
      "metadata": {
        "id": "nwzP55t2Ij7B"
      },
      "execution_count": null,
      "outputs": []
    },
    {
      "cell_type": "markdown",
      "metadata": {
        "id": "zo3-6VlrCN3w"
      },
      "source": [
        "### Plot Tickers"
      ]
    },
    {
      "cell_type": "code",
      "execution_count": null,
      "metadata": {
        "id": "W4H09IBuCN3w"
      },
      "outputs": [],
      "source": [
        "# # DON'T WRITE HERE\n",
        "# df.plot();"
      ]
    },
    {
      "cell_type": "code",
      "source": [
        "# df.plot()\n",
        "# plt.axvline(pd.Timestamp('2000-01-01'))\n",
        "# plt.title(\"Growth of Market Indices\")\n",
        "# plt.xlabel(\"Date\")\n",
        "# plt.ylabel(\"Value\")\n",
        "# plt.legend()\n",
        "# plt.grid(True)\n",
        "# plt.show()"
      ],
      "metadata": {
        "id": "D29lz7ptEQ5A"
      },
      "execution_count": null,
      "outputs": []
    },
    {
      "cell_type": "code",
      "source": [
        "# df['Year']=df.index.year\n",
        "# df['Month']=df.index.month\n",
        "# df['Day']=df.index.day\n",
        "# df.head()"
      ],
      "metadata": {
        "id": "9sFnY9EMHshr"
      },
      "execution_count": null,
      "outputs": []
    },
    {
      "cell_type": "markdown",
      "metadata": {
        "id": "RUgW8RXSCN3w"
      },
      "source": [
        "### Customize Date"
      ]
    },
    {
      "cell_type": "code",
      "execution_count": null,
      "metadata": {
        "id": "LUEPYLvBCN3x"
      },
      "outputs": [],
      "source": [
        "# df['Month Name']=df.index.strftime('%B')\n",
        "# df.head()"
      ]
    },
    {
      "cell_type": "code",
      "source": [
        "# df[df['Year']==2007].head()"
      ],
      "metadata": {
        "id": "hAlfE1imN7zo"
      },
      "execution_count": null,
      "outputs": []
    },
    {
      "cell_type": "code",
      "source": [
        "# df[['DOW', 'SP500', 'NASDAQ']].plot()\n",
        "# plt.axvline(pd.Timestamp('2000-01-01'))\n",
        "# plt.axvline(df.query('Year==2007 and Month==1 and Day==3').index[0])\n",
        "# plt.title(\"Growth of Market Indices\")\n",
        "# plt.xlabel(\"Date\")\n",
        "# plt.ylabel(\"Value\")\n",
        "# plt.legend()\n",
        "# plt.grid(True)\n",
        "# plt.show()"
      ],
      "metadata": {
        "id": "pRxpx5nbJfL5"
      },
      "execution_count": null,
      "outputs": []
    },
    {
      "cell_type": "code",
      "source": [
        "# start_date = '2008-01-01'\n",
        "# end_date = '2012-12-01'\n",
        "# min_value = df.loc[start_date:end_date, 'DOW'].idxmax()\n",
        "# print(min_value)"
      ],
      "metadata": {
        "id": "55JWJUskao4w"
      },
      "execution_count": null,
      "outputs": []
    },
    {
      "cell_type": "code",
      "source": [
        "# # fig = plt.figure()\n",
        "# fig = df[['DOW', 'SP500', 'NASDAQ']].plot()\n",
        "# plt.axvline(pd.Timestamp('2000-01-01'))\n",
        "# plt.axvline(df.query('Year==2007 and Month==10 and Day==5').index[0])\n",
        "# plt.axvline(df.query('Year==2020 and Month==1').index[0])\n",
        "# plt.title(\"Growth of Market Indices\")\n",
        "# plt.xlabel(\"Date\")\n",
        "# plt.ylabel(\"Value\")\n",
        "# plt.legend()\n",
        "# plt.grid(True)\n",
        "# plt.show()"
      ],
      "metadata": {
        "id": "v58OzMq1OiVI"
      },
      "execution_count": null,
      "outputs": []
    },
    {
      "cell_type": "markdown",
      "metadata": {
        "id": "uVLpuUisCN3x"
      },
      "source": [
        "### 2020 Boxplot"
      ]
    },
    {
      "cell_type": "code",
      "execution_count": null,
      "metadata": {
        "id": "hc2bac46CN3x"
      },
      "outputs": [],
      "source": [
        "# # DON'T WRITE HERE\n",
        "# df[df['Year']==2020].boxplot(column='DOW', by='Month Name', figsize=(12,5));"
      ]
    },
    {
      "cell_type": "code",
      "source": [
        "# month_order = df[df['Year']==2020]['Month Name'].unique()"
      ],
      "metadata": {
        "id": "4_s2FNtERN1s"
      },
      "execution_count": null,
      "outputs": []
    },
    {
      "cell_type": "code",
      "source": [
        "# # month_order = ['January', 'February', 'March', 'April', 'May', 'June', 'July', 'August', 'September', 'October', 'November', 'December']\n",
        "# df['Month Name'] = pd.Categorical(df['Month Name'], categories=month_order, ordered=True)\n",
        "# df[df['Year']==2020].boxplot(column='DOW', by='Month Name', figsize=(12,5));"
      ],
      "metadata": {
        "id": "7tbl1-h6QwY3"
      },
      "execution_count": null,
      "outputs": []
    },
    {
      "cell_type": "code",
      "source": [
        "# # filter a DataFrame to show data starting from a specific date\n",
        "# import dateutil.parser\n",
        "\n",
        "# # df[df['Year']==2020].head()\n",
        "# df[df.index >= dateutil.parser.parse(\"2020-04-01\")].head()"
      ],
      "metadata": {
        "id": "lJmq0mDySf2S"
      },
      "execution_count": null,
      "outputs": []
    },
    {
      "cell_type": "code",
      "source": [
        "# # # maximum percentage decline (drawdown) of the Dow Jones Industrial Average (DOW) index during the year 2020\n",
        "# # filtered_df = df.loc[start_date:end_date]\n",
        "# # min_index = filtered_df['Value'].idxmin()\n",
        "\n",
        "# start_date = '2020-01-01'\n",
        "# end_date = '2020-12-31'\n",
        "# min_value = df.loc[start_date:end_date, 'DOW'].idxmin()\n",
        "# print(min_value)\n",
        "# 100 * (df.loc[min_value, 'DOW'] - df.loc['2020-01-02', 'DOW']) / df.loc['2020-01-02', 'DOW']"
      ],
      "metadata": {
        "id": "jD8OlaMOSFcX"
      },
      "execution_count": null,
      "outputs": []
    },
    {
      "cell_type": "markdown",
      "metadata": {
        "id": "cOjziQmIA-qh"
      },
      "source": [
        "**What was the percent increase in value from Jan 2020 to Jan 2024?**"
      ]
    },
    {
      "cell_type": "code",
      "source": [
        "# df.tail()"
      ],
      "metadata": {
        "id": "uPiQY1SBXoQp"
      },
      "execution_count": null,
      "outputs": []
    },
    {
      "cell_type": "code",
      "execution_count": null,
      "metadata": {
        "id": "8IYCshk8A-qi"
      },
      "outputs": [],
      "source": [
        "# 100 * (df.loc['2024-11-07', 'DOW'] - df.loc['2020-01-02', 'DOW']) / df.loc['2020-01-02', 'DOW']"
      ]
    },
    {
      "cell_type": "markdown",
      "metadata": {
        "id": "Mdhd1G0KA-qj"
      },
      "source": [
        "**What 6 months have the highest value?**"
      ]
    },
    {
      "cell_type": "code",
      "execution_count": null,
      "metadata": {
        "id": "E5SecgjmA-qj"
      },
      "outputs": [],
      "source": [
        "# df.sort_values(by='ZM',ascending=False).head(5)"
      ]
    },
    {
      "cell_type": "code",
      "execution_count": null,
      "metadata": {
        "id": "SG5MMEPZA-qk"
      },
      "outputs": [],
      "source": [
        "# fig.figure"
      ]
    },
    {
      "cell_type": "markdown",
      "source": [
        "How much was lost in 2020?"
      ],
      "metadata": {
        "id": "fiMgLcO9ekqB"
      }
    },
    {
      "cell_type": "code",
      "source": [
        "# start_date = '2020-01-01'\n",
        "# end_date = '2020-12-31'\n",
        "# min_value = df.loc[start_date:end_date, 'DOW'].idxmin()\n",
        "# max_value = df.loc[start_date:end_date, 'DOW'].idxmax()\n",
        "# print(min_value, max_value)"
      ],
      "metadata": {
        "id": "yGRVJBNFe9JX"
      },
      "execution_count": null,
      "outputs": []
    },
    {
      "cell_type": "code",
      "execution_count": null,
      "metadata": {
        "id": "rI7-Dq8QA-qu"
      },
      "outputs": [],
      "source": [
        "# df.loc['2020-03-23', 'DOW'] - df.loc['2020-01-02', 'DOW']"
      ]
    },
    {
      "cell_type": "markdown",
      "source": [
        "## Great Hindsight"
      ],
      "metadata": {
        "id": "X-jho5VFhV99"
      }
    },
    {
      "cell_type": "markdown",
      "metadata": {
        "id": "GgXz0g3PA-qw"
      },
      "source": [
        "Plot out the yearly rolling mean on top of the original data. Recall that this is daily data and there are 365 days in a year!\n",
        "\n",
        "The terms \"moving average\" and \"rolling mean\" are often used interchangeably, and in many contexts, they refer to the same calculation. However, there can be a subtle difference in how they are applied, particularly in some software packages or specific fields.\n",
        "\n",
        "Here's a breakdown of the nuances:\n",
        "\n",
        "**Moving Average:**\n",
        "\n",
        "* **Focus:**  Generally emphasizes the smoothing aspect and the creation of a new time series of averages.\n",
        "* **Calculation:** Calculates the average of a fixed number of consecutive data points (\"window\") and slides this window across the data.\n",
        "* **Example:**  A 3-month moving average of sales data would average the sales for the current month and the two preceding months.\n",
        "\n",
        "**Rolling Mean:**\n",
        "\n",
        "* **Focus:**  Often highlights the continuous updating of the average as new data becomes available.\n",
        "* **Calculation:**  Similar to moving average, but sometimes implies that the average is recalculated with each new data point, including all data up to that point.\n",
        "* **Example:**  A rolling mean of daily stock prices might be calculated every day, incorporating all prices from the beginning of the data up to the current day.\n",
        "\n",
        "**Key Difference:**\n",
        "\n",
        "The main distinction lies in how the data is included in the calculation:\n",
        "\n",
        "* **Moving Average:**  Uses a fixed-size window that \"moves\" along the data.\n",
        "* **Rolling Mean:**  Can imply that the window expands to include all data up to the current point, although it can also be used with a fixed window size.\n",
        "\n",
        "**In Practice:**\n",
        "\n",
        "Many software packages and libraries (like pandas in Python) use the terms interchangeably. For example, the `rolling()` method in pandas can be used to calculate both moving averages with a fixed window and rolling means with an expanding window.\n",
        "\n",
        "**Ultimately:**\n",
        "\n",
        "The terms are very similar, and the specific meaning often depends on the context. If you encounter these terms in a specific software or application, it's always a good idea to check the documentation to understand precisely how they are implemented.\n"
      ]
    },
    {
      "cell_type": "code",
      "execution_count": null,
      "metadata": {
        "id": "ClSy5rA0A-qx"
      },
      "outputs": [],
      "source": [
        "# df['DOW Rolling Mean'] = df['DOW'].rolling(window=365).mean()\n",
        "# df[['DOW','DOW Rolling Mean']].plot(figsize=(12,5)).autoscale(axis='x',tight=True);"
      ]
    },
    {
      "cell_type": "markdown",
      "source": [
        "### Hodrick-Prescott Filter\n",
        "\n",
        "The Hodrick-Prescott (HP) filter is a mathematical technique used to smooth out time series data and extract the underlying trend. It's like separating the signal from the noise. Imagine you're looking at the DOW Jones Industrial Average over time; it goes up and down every day, but there's also a long-term trend (generally upwards). The HP filter helps you identify that trend.\n",
        "\n",
        "Here's how it works:\n",
        "\n",
        "**1. Decomposition:** The HP filter assumes that a time series (like the DOW) is composed of two main components:\n",
        "   - **Trend:** The long-term, smooth component that represents the overall direction of the series.\n",
        "   - **Cyclical component:** The short-term fluctuations around the trend.\n",
        "\n",
        "**2. Optimization:** The filter finds the trend by minimizing a combination of two factors:\n",
        "   - **Goodness of fit:** How closely the trend follows the actual data.\n",
        "   - **Smoothness:** How smooth the trend is (avoiding sharp changes in direction).\n",
        "\n",
        "**3. The Lambda Parameter:** A key parameter in the HP filter is \"lambda\" (λ). It controls the balance between goodness of fit and smoothness:\n",
        "   - **High lambda:**  Produces a smoother trend, focusing on long-term movements.\n",
        "   - **Low lambda:**  Produces a trend that follows the data more closely, capturing more short-term fluctuations.\n",
        "\n",
        "**Analogy:** Think of a bumpy road. The HP filter is like driving a car with good suspension. The car (the trend) follows the general direction of the road, but the suspension absorbs the bumps (the cyclical component). Lambda is like adjusting the stiffness of the suspension.\n",
        "\n",
        "**Applications:**\n",
        "\n",
        "- **Economics:**  Analyzing economic indicators like GDP, inflation, and unemployment to identify underlying trends and cycles.\n",
        "- **Finance:**  Smoothing stock prices or other financial data to identify long-term trends and make investment decisions.\n",
        "- **Forecasting:**  Using the extracted trend to make predictions about future values.\n",
        "\n",
        "**Limitations:**\n",
        "\n",
        "- **End-point bias:** The filter can be less accurate at the beginning and end of the time series.\n",
        "- **Sensitivity to lambda:** The choice of lambda can significantly affect the results, and there's no one-size-fits-all value.\n",
        "- **Assumption of a constant trend:** The HP filter assumes that the underlying trend is relatively stable, which may not always be true.\n",
        "\n",
        "Despite these limitations, the HP filter is a valuable tool for analyzing time series data and extracting meaningful insights.\n"
      ],
      "metadata": {
        "id": "3-Dw3IqYgtjo"
      }
    },
    {
      "cell_type": "code",
      "source": [
        "# import yfinance as yf\n",
        "# import pandas as pd\n",
        "# import statsmodels.api as sm\n",
        "# import matplotlib.pyplot as plt\n",
        "\n",
        "# # Download DOW data from Yahoo Finance\n",
        "# data = yf.download(\"^DJI\", start=\"2022-01-01\", end=\"2024-11-14\")\n",
        "\n",
        "# # Extract the closing prices\n",
        "# dow_prices = data['Close']\n",
        "\n",
        "# # Convert the pandas Series to a 1D numpy array\n",
        "# dow_prices = dow_prices.values.flatten()  # This line is the key!\n",
        "\n",
        "# # Apply the Hodrick-Prescott filter\n",
        "# cycle, trend = sm.tsa.filters.hpfilter(dow_prices, lamb=1600)\n",
        "\n",
        "# # Create a DataFrame for plotting (using the original index from dow_prices)\n",
        "# df = pd.DataFrame({'DOW': dow_prices, 'Trend': trend, 'Cycle': cycle}, index=data.index)\n",
        "\n",
        "# # Plot the results\n",
        "# plt.figure(figsize=(12, 6))\n",
        "# plt.plot(df['DOW'], label='Original DOW', alpha=0.5)\n",
        "# plt.plot(df['Trend'], label='Trend')\n",
        "# # plt.plot(df['Cycle'], label='Cycle')  # Optional: plot the cyclical component\n",
        "# plt.legend()\n",
        "# plt.title('Hodrick-Prescott Filter on DOW')\n",
        "# plt.show()"
      ],
      "metadata": {
        "id": "mERvW83zSVjZ"
      },
      "execution_count": null,
      "outputs": []
    }
  ]
}