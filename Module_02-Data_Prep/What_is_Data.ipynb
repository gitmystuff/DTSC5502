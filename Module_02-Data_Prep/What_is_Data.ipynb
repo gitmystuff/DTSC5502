{
  "cells": [
    {
      "cell_type": "markdown",
      "metadata": {
        "id": "view-in-github",
        "colab_type": "text"
      },
      "source": [
        "<a href=\"https://colab.research.google.com/github/gitmystuff/DTSC5502/blob/main/Module_02-Data_Prep/What_is_Data.ipynb\" target=\"_parent\"><img src=\"https://colab.research.google.com/assets/colab-badge.svg\" alt=\"Open In Colab\"/></a>"
      ]
    },
    {
      "cell_type": "markdown",
      "id": "41c9a5d1",
      "metadata": {
        "id": "41c9a5d1"
      },
      "source": [
        "# Data\n",
        "\n",
        "Your Name"
      ]
    },
    {
      "cell_type": "markdown",
      "source": [
        "## Getting Started\n",
        "\n",
        "* Colab - get notebook from gitmystuff DTSC5502 repository\n",
        "* Save a Copy in Drive\n",
        "* Remove Copy of\n",
        "* Edit your name\n",
        "* Clean up Colab Notebooks folder\n",
        "* Submit shared link"
      ],
      "metadata": {
        "id": "tv86CANY3_Xy"
      },
      "id": "tv86CANY3_Xy"
    },
    {
      "cell_type": "markdown",
      "id": "87f8c9ee",
      "metadata": {
        "id": "87f8c9ee"
      },
      "source": [
        "## Data Science Process\n",
        "\n",
        "https://www.springboard.com/blog/data-science/data-science-process/"
      ]
    },
    {
      "cell_type": "markdown",
      "source": [
        "## Statistics\n",
        "\n",
        "Why use statistics?\n",
        "\n",
        "* To summarize huge quantities of data\n",
        "* To make better decisions\n",
        "* Answer important social questions\n",
        "* Recognize patterns\n",
        "* Evaluate effectiveness\n"
      ],
      "metadata": {
        "id": "iWSQPh49xpgD"
      },
      "id": "iWSQPh49xpgD"
    },
    {
      "cell_type": "markdown",
      "id": "259d6803",
      "metadata": {
        "id": "259d6803"
      },
      "source": [
        "## Parameter vs Statistic\n",
        "\n",
        "* https://www.statisticshowto.com/statistics-basics/how-to-tell-the-difference-between-a-statistic-and-a-parameter/\n",
        "* Parameter describes population, statistic describes sample\n",
        "\n",
        "### Statistical Inference\n",
        "\n",
        "According to Wikipedia (2022):\n",
        "\n",
        ">  the process of using data analysis to infer properties of an underlying distribution of probability (para 1).\n",
        "\n",
        "Statistical Inference. (2022, January 24). In *Wikipedia*. https://en.wikipedia.org/wiki/Statistical_inference.\n",
        "\n",
        "https://www.analyticsvidhya.com/blog/2022/03/an-overview-of-data-collection-data-sources-and-data-mining/\n",
        "\n",
        "* Mean and standard deviation of a sample should be similar to the mean and standard deviation of the population\n",
        "* Mean: where most of the observations lie with a distribution variance that is symmetrical\n",
        "* Standard Deviation: a way to measure how far observations are from the mean, on the x axis, in terms similar to the data it represents"
      ]
    },
    {
      "cell_type": "markdown",
      "id": "74b4d70e",
      "metadata": {
        "id": "74b4d70e"
      },
      "source": [
        "## Data Defined\n",
        "\n",
        "According to Wikipedia (2023):\n",
        "\n",
        ">  In the pursuit of knowledge, data is a collection of discrete values that convey information, describing quantity, quality, fact, statistics, other basic units of meaning, or simply sequences of symbols that may be further interpreted. A datum is an individual value in a collection of data. Data is usually organized into structures such as tables that provide additional context and meaning, and which may themselves be used as data in larger structures (para 1).\n",
        "\n",
        "Data. (2023, January 23). In *Wikipedia*. https://en.wikipedia.org/wiki/Data\n",
        "\n",
        "Data are dumb. Data needs context.\n",
        "\n",
        "* GPA, used a lot but doesn't count the difficulty of the courses taken\n",
        "\n",
        "* It was found that workers who take frequent breaks died earlier than others\n",
        "    * That's because they were out smoking"
      ]
    },
    {
      "cell_type": "markdown",
      "id": "0047de15",
      "metadata": {
        "id": "0047de15"
      },
      "source": [
        "## Data Science, Data Analysis, and Data Mining\n",
        "\n",
        "* Data science is generally concerned with scientific applications, while data mining is used in market analysis, financial analysis, fraud detection, etc.\n",
        "* https://magnimindacademy.com/blog/7-awesome-difference-between-data-science-vs-data-mining/\n",
        "* Data mining is a process of extracting useful information, patterns, and trends from huge databases. Data science refers to the process of obtaining valuable insights from structured and unstructured data by using various tools and methods. Data mining is a technique. Data science is a field\n",
        "* https://www.javatpoint.com/data-mining-vs-data-science\n",
        "* **Check the following image out!**\n",
        "* https://uwex.wisconsin.edu/wp-content/uploads/2020/10/294-ds-vs-da_Page_1-2048x798-1.png"
      ]
    },
    {
      "cell_type": "markdown",
      "source": [
        "# Make It Stick - What is the Data Life Cycle"
      ],
      "metadata": {
        "id": "nRETt71sK52Q"
      },
      "id": "nRETt71sK52Q"
    },
    {
      "cell_type": "markdown",
      "source": [
        "## Data Life Cycle\n",
        "\n",
        "The data lifecycle is like a journey that data takes from its creation to its retirement. It's a continuous process with several stages, each with its own purpose and challenges. Here's a breakdown of the typical stages:\n",
        "\n",
        "**1. Data Creation/Capture**\n",
        "\n",
        "* This is where data is born! It can be generated from various sources:\n",
        "    * **Directly:** User input (forms, surveys), sensors (IoT devices), transactions (online purchases).\n",
        "    * **Indirectly:**  Social media activity, web scraping, machine-generated data (logs).\n",
        "\n",
        "**2. Data Collection**\n",
        "\n",
        "* Gathering the raw data from different sources and bringing it together.\n",
        "* This might involve:\n",
        "    * APIs to connect to databases or online services\n",
        "    * Sensors transmitting data wirelessly\n",
        "    * Manual data entry\n",
        "\n",
        "**3. Data Processing**\n",
        "\n",
        "* Cleaning, transforming, and preparing the data for analysis.\n",
        "* This is often the most time-consuming step and can involve:\n",
        "    * Removing errors and inconsistencies\n",
        "    * Handling missing values\n",
        "    * Converting data types\n",
        "    * Aggregating or summarizing data\n",
        "\n",
        "**4. Data Storage**\n",
        "\n",
        "* Storing the processed data in a secure and accessible way.\n",
        "* Storage options include:\n",
        "    * Databases (relational, NoSQL)\n",
        "    * Data warehouses\n",
        "    * Cloud storage (AWS S3, Google Cloud Storage)\n",
        "\n",
        "**5. Data Analysis**\n",
        "\n",
        "* Extracting insights and knowledge from the data.\n",
        "* This involves:\n",
        "    * Statistical analysis\n",
        "    * Machine learning\n",
        "    * Data visualization\n",
        "\n",
        "**6. Data Visualization**\n",
        "\n",
        "* Representing the data and insights in a visual format (charts, graphs, dashboards).\n",
        "* Makes it easier to understand trends, patterns, and outliers.\n",
        "\n",
        "**7. Data Interpretation**\n",
        "\n",
        "* Drawing conclusions and making decisions based on the data analysis and visualization.\n",
        "* This is where data turns into actionable knowledge.\n",
        "\n",
        "**8. Data Archiving/Deletion**\n",
        "\n",
        "* Deciding what to do with data that's no longer actively used.\n",
        "* Options include:\n",
        "    * Archiving for long-term storage\n",
        "    * Deleting data securely to comply with regulations or free up space\n",
        "\n",
        "**Why is the data lifecycle important?**\n",
        "\n",
        "* **Efficiency:**  It provides a structured approach to managing data, ensuring that it's used effectively throughout its lifespan.\n",
        "* **Data quality:** Helps maintain data accuracy, consistency, and completeness.\n",
        "* **Security and compliance:**  Ensures data is stored and handled securely, meeting regulatory requirements.\n",
        "* **Decision-making:** Provides a framework for turning raw data into valuable insights that drive informed decisions.\n",
        "\n",
        "Understanding the data lifecycle is crucial for anyone working with data, from data scientists and analysts to business leaders and policymakers. It helps organizations maximize the value of their data and make better decisions.\n"
      ],
      "metadata": {
        "id": "czRoYYVHCKFz"
      },
      "id": "czRoYYVHCKFz"
    },
    {
      "cell_type": "markdown",
      "id": "ba618b59",
      "metadata": {
        "id": "ba618b59"
      },
      "source": [
        "## Data Types\n",
        "\n",
        "Computer Science Considerations:\n",
        "* str, int, float\n",
        "* dynamic typing: the type of a variable is determined at runtime\n",
        "* static typing: the type of a variable is determined at compilt time\n",
        "\n",
        "Basic Data Types:\n",
        "* Numerical: has measurement\n",
        "    * Discrete: can be counted (number of people in a class)\n",
        "    * Continuous: described as a measurement (height, weight, temps), usually rounded off\n",
        "* Categorical: some type of group, category, that can be represented by a number (female: 1, male: 2) but have no mathematical meaning\n",
        "* Nominal: named or labeled (31 flavors)\n",
        "* Ordinal: ordered or scaled (first, second, etc, very happy, happy, meh, sad, very sad)\n",
        "* Cardinal: the number of things, counted (1, 2, 3, 4, 6, etc)\n",
        "* Interval: ordered numbers with equal distances (50 degrees, 60 degrees, etc)\n",
        "* Ratio: has a true zero (can't have height of -2 inches, distance between 1 and 2 is the same as 3 and 4 and 4 is twice 2)"
      ]
    },
    {
      "cell_type": "markdown",
      "source": [
        "## Data Structures\n",
        "\n",
        "collection data types, mutable vs immutable (tuples and strings are immutable)\n",
        "\n",
        "* List\n",
        "* Tuple\n",
        "* Set\n",
        "* Sequence (ordered set, list, tuple, string)\n",
        "* Dictionary\n",
        "* Matrix\n",
        "* Classes?\n",
        "\n",
        "Practice:\n",
        "\n",
        "* https://www.w3schools.com/python/default.asp"
      ],
      "metadata": {
        "id": "55Efv8dySBBq"
      },
      "id": "55Efv8dySBBq"
    },
    {
      "cell_type": "code",
      "source": [
        "for i in 'string':\n",
        "    print(i)\n",
        "\n",
        "print('string'[0])\n",
        "'string'[0] = 'x'\n",
        "\n",
        "for i in 12345:\n",
        "    print(i)"
      ],
      "metadata": {
        "colab": {
          "base_uri": "https://localhost:8080/",
          "height": 346
        },
        "id": "Ztm-LqHqJ6Ck",
        "outputId": "4aea8479-ef67-4289-8885-6ec9ab2b93c9"
      },
      "id": "Ztm-LqHqJ6Ck",
      "execution_count": null,
      "outputs": [
        {
          "output_type": "stream",
          "name": "stdout",
          "text": [
            "s\n",
            "t\n",
            "r\n",
            "i\n",
            "n\n",
            "g\n",
            "s\n"
          ]
        },
        {
          "output_type": "error",
          "ename": "TypeError",
          "evalue": "'str' object does not support item assignment",
          "traceback": [
            "\u001b[0;31m---------------------------------------------------------------------------\u001b[0m",
            "\u001b[0;31mTypeError\u001b[0m                                 Traceback (most recent call last)",
            "\u001b[0;32m<ipython-input-6-0db676d003ac>\u001b[0m in \u001b[0;36m<cell line: 5>\u001b[0;34m()\u001b[0m\n\u001b[1;32m      3\u001b[0m \u001b[0;34m\u001b[0m\u001b[0m\n\u001b[1;32m      4\u001b[0m \u001b[0mprint\u001b[0m\u001b[0;34m(\u001b[0m\u001b[0;34m'string'\u001b[0m\u001b[0;34m[\u001b[0m\u001b[0;36m0\u001b[0m\u001b[0;34m]\u001b[0m\u001b[0;34m)\u001b[0m\u001b[0;34m\u001b[0m\u001b[0;34m\u001b[0m\u001b[0m\n\u001b[0;32m----> 5\u001b[0;31m \u001b[0;34m'string'\u001b[0m\u001b[0;34m[\u001b[0m\u001b[0;36m0\u001b[0m\u001b[0;34m]\u001b[0m \u001b[0;34m=\u001b[0m \u001b[0;34m'x'\u001b[0m\u001b[0;34m\u001b[0m\u001b[0;34m\u001b[0m\u001b[0m\n\u001b[0m\u001b[1;32m      6\u001b[0m \u001b[0;34m\u001b[0m\u001b[0m\n\u001b[1;32m      7\u001b[0m \u001b[0;32mfor\u001b[0m \u001b[0mi\u001b[0m \u001b[0;32min\u001b[0m \u001b[0;36m12345\u001b[0m\u001b[0;34m:\u001b[0m\u001b[0;34m\u001b[0m\u001b[0;34m\u001b[0m\u001b[0m\n",
            "\u001b[0;31mTypeError\u001b[0m: 'str' object does not support item assignment"
          ]
        }
      ]
    },
    {
      "cell_type": "markdown",
      "source": [
        "## Data Modeling\n",
        "\n",
        "Data modeling is a process of creating a conceptual representation of data objects and their relationships to one another. The process of data modeling typically involves several steps, including requirements gathering, conceptual design, logical design, physical design, and implementation.\n",
        "\n",
        "https://www.simplilearn.com/what-is-data-modeling-article"
      ],
      "metadata": {
        "id": "5lxa_HCYyJdM"
      },
      "id": "5lxa_HCYyJdM"
    },
    {
      "cell_type": "markdown",
      "source": [
        "## Data Models and Data Structures\n",
        "\n",
        "Python's data model and data structures are foundational concepts in the language. Let's break them down:\n",
        "\n",
        "**Python Data Model**:\n",
        "\n",
        "Concept:\n",
        "* The data model defines how Python objects behave and interact. It's a set of rules that govern how you can access, manipulate, and represent data in Python.\n",
        "\n",
        "Key Features:\n",
        "\n",
        "* Everything is an object: All data types in Python are objects, including numbers, strings, lists, and even functions.\n",
        "* Special methods: Objects can implement special methods (e.g., __init__, __str__, __len__) to customize their behavior.\n",
        "* Duck typing: Python focuses on an object's behavior rather than its type. If an object \"walks like a duck and quacks like a duck,\" it's considered a duck.\n",
        "\n",
        "**Python Data Structures**:\n",
        "\n",
        "Concept:\n",
        "\n",
        "* Data structures are ways of organizing and storing data efficiently. Python offers several built-in data structures, each with its strengths and use cases.\n",
        "\n",
        "Common Data Structures:\n",
        "* Lists: Ordered, mutable collections that can store different data types.\n",
        "* Tuples: Ordered, immutable collections. Often used to store related pieces of information.\n",
        "* Dictionaries: Unordered collections of key-value pairs. Efficient for data retrieval.\n",
        "* Sets: Unordered collections of unique elements. Useful for membership testing.\n",
        "\n",
        "**Relationship between Data Model and Data Structures**:\n",
        "* The data model provides the foundation for how data structures are implemented and used in Python.\n",
        "* Special methods in the data model allow you to customize the behavior of your data structures.\n",
        "* By understanding the data model, you can use built-in data structures more effectively and even create your own custom data structures."
      ],
      "metadata": {
        "id": "BnHk1G520tCP"
      },
      "id": "BnHk1G520tCP"
    },
    {
      "cell_type": "markdown",
      "source": [
        "## Sources of Data"
      ],
      "metadata": {
        "id": "FqwjLbA0YaTl"
      },
      "id": "FqwjLbA0YaTl"
    },
    {
      "cell_type": "markdown",
      "source": [
        "### Primary Data Sources\n",
        "\n",
        "* First hand experience\n",
        "* Census data\n",
        "* Surveys\n",
        "* Questionnaires\n",
        "* Real time sentiment\n",
        "* Interviews\n",
        "* Observations\n",
        "* Experiments"
      ],
      "metadata": {
        "id": "ANTXk1tsYgYY"
      },
      "id": "ANTXk1tsYgYY"
    },
    {
      "cell_type": "markdown",
      "source": [
        "# Make It Stick - Secondary Data Sources"
      ],
      "metadata": {
        "id": "Ry3RFXKHLxES"
      },
      "id": "Ry3RFXKHLxES"
    },
    {
      "cell_type": "markdown",
      "source": [
        "### Secondary Data Sources\n",
        "\n",
        "* Books\n",
        "* Journals\n",
        "* Articles\n",
        "* Web pages\n",
        "* Blogs"
      ],
      "metadata": {
        "id": "OqPusSI-zXaO"
      },
      "id": "OqPusSI-zXaO"
    },
    {
      "cell_type": "markdown",
      "source": [
        "### Databases\n",
        "\n",
        "* SQL\n",
        "* NoSQL"
      ],
      "metadata": {
        "id": "CdCshkgmLhZ5"
      },
      "id": "CdCshkgmLhZ5"
    },
    {
      "cell_type": "markdown",
      "source": [
        "### APIs\n",
        "\n",
        "* Web services\n",
        "* Used to retrieve data"
      ],
      "metadata": {
        "id": "RBHpxjJELm8_"
      },
      "id": "RBHpxjJELm8_"
    },
    {
      "cell_type": "markdown",
      "source": [
        "### Web Scraping\n",
        "\n",
        "* Programs you write to gather online data\n",
        "* Web harvesting\n",
        "* Online data extraction"
      ],
      "metadata": {
        "id": "9TgZfFHILrj1"
      },
      "id": "9TgZfFHILrj1"
    },
    {
      "cell_type": "markdown",
      "source": [
        "### Data Streams\n",
        "\n",
        "* Internet of Things (sensors)\n",
        "* GPS\n",
        "* GIS (Geographic Information System) Mapping\n",
        "* Social media"
      ],
      "metadata": {
        "id": "9cz89PMtLt7X"
      },
      "id": "9cz89PMtLt7X"
    },
    {
      "cell_type": "markdown",
      "source": [
        "## Data Points"
      ],
      "metadata": {
        "id": "ETzTGrzmRfol"
      },
      "id": "ETzTGrzmRfol"
    },
    {
      "cell_type": "markdown",
      "id": "0edbb01a",
      "metadata": {
        "id": "0edbb01a"
      },
      "source": [
        "### Data Starts with a Question\n",
        "\n",
        "According to Wikipedia (2022):\n",
        "\n",
        ">  A research question is a question that a research project sets out to answer'. Choosing a research question is an essential element of both quantitative and qualitative research. Investigation will **require data collection and analysis**, and the methodology for this will vary widely. Good research questions seek to improve knowledge on an important topic, and are usually narrow and specific (para 1).\n",
        "\n",
        "Research Question. (2022, January 24). In *Wikipedia*. https://en.wikipedia.org/wiki/Research_question"
      ]
    },
    {
      "cell_type": "markdown",
      "id": "651e577d",
      "metadata": {
        "id": "651e577d"
      },
      "source": [
        "### Data Needs to be Reliable (Precision)\n",
        "\n",
        "* Consistency of a measure (whether the results can be reproduced under the same conditions)"
      ]
    },
    {
      "cell_type": "markdown",
      "source": [
        "### Data Needs to be Valid (Accurate)\n",
        "\n",
        "* The accuracy of a measure (whether the results really do represent what they are supposed to measure)"
      ],
      "metadata": {
        "id": "0Od0sU77Rmyx"
      },
      "id": "0Od0sU77Rmyx"
    },
    {
      "cell_type": "markdown",
      "source": [
        "### Precision vs Accuracy\n",
        "\n",
        "Accuracy is about correctness, and precision is about consistency\n",
        "\n",
        "* Precision: exactitude of describing something\n",
        "* Accuracy: how consistent to the truth\n",
        "* Where's the library? Library is 1.6 miles from here (precise but not to useful) vs. go down this street a couple of blocks till you pass a bank. It'll be to the right. If you pass the fire station, you've gone too far"
      ],
      "metadata": {
        "id": "ohnu8Mm0Rpql"
      },
      "id": "ohnu8Mm0Rpql"
    },
    {
      "cell_type": "markdown",
      "source": [
        "## Story Time"
      ],
      "metadata": {
        "id": "rw77hetyNlZX"
      },
      "id": "rw77hetyNlZX"
    },
    {
      "cell_type": "markdown",
      "metadata": {
        "id": "UOgYrCtFX1D_"
      },
      "source": [
        "### Jeff Seder\n",
        "\n",
        "Everybody Lies\n",
        "    \n",
        "* Jeff Seder was hired by an Egyptian Beer Magnate, named Ahmed Zayat, who was into horses and horse racing, as a consultant\n",
        "    * There was a sale of 152 one year old horses\n",
        "    * One of those horses, an average horse designated number 85, was owned by Zayat\n",
        "    * At the time Jeff Seder and his team were unable to recommend the purchase of any of the horses\n",
        "    * But was adamant about not selling No. 85 even though similar horses were going for 1 million dollars\n",
        "    * Three months later, Zayat named the horse American Pharoah\n",
        "    * 18 months later American Pharoah won the Triple Crown\n",
        "    \n",
        "* How did Seder know?\n",
        "    * Was it through pedigree? father, mother, grand parents, etc.\n",
        "    * Gaits (a manner of walk, trot, canter, and gallop)?\n",
        "    * Years of data collection resulted in frustration for Seder\n",
        "    * Measured the size of nostrils (produced a book on horse nostrils)\n",
        "    * EKGs\n",
        "    * Dug through horse poop\n",
        "    * Finally found that the size of the heart specifically the left ventricle and spleen mattered\n",
        "    \n",
        "* Data on American Pharoah:\n",
        "    * Height: 56 percentile\n",
        "    * Weight: 61 percentile\n",
        "    * Pedigree: 70 percentile\n",
        "    * Left Ventricle: 99.61 percentile\n",
        "\n"
      ],
      "id": "UOgYrCtFX1D_"
    },
    {
      "cell_type": "markdown",
      "id": "6e50a1e9",
      "metadata": {
        "id": "6e50a1e9"
      },
      "source": [
        "### Fruit Flies and a Data Perspective\n",
        "\n",
        "https://www.bbc.com/news/science-environment-17357560\n",
        "\n",
        "Study Findings\n",
        "\n",
        "Scientists discovered that male fruit flies rejected by females consume significantly more alcohol than those that successfully mate. The research, published in Science journal, suggests alcohol acts as a \"reward\" in the brain similar to sexual conquest.\n",
        "\n",
        "Key Scientific Details\n",
        "\n",
        "* The Chemical Connection: The study identified neuropeptide F (NPF) as the brain chemical linking sexual behavior and alcohol consumption\n",
        "* NPF Levels: Rejected males had lower NPF levels, while mated males had higher levels\n",
        "* Human Parallel: Humans have a similar chemical called neuropeptide Y, suggesting potential relevance to human behavior\n",
        "\n",
        "Research Method\n",
        "\n",
        "Researchers at UC San Francisco tested male flies in two scenarios:\n",
        "\n",
        "* Group 1: Males with receptive virgin females (who mated successfully)\n",
        "* Group 2: Males with previously mated females (who were rejected)\n",
        "\n",
        "When offered regular food or alcohol-laced food, the rejected males chose alcohol while successful males avoided it.\n",
        "\n",
        "Broader Implications\n",
        "\n",
        "The research suggests that brains have internal reward systems that seek to restore balance when reward levels drop. This could help explain addiction mechanisms and reward-seeking behaviors across species, though researchers caution against directly applying fly behavior to humans.\n",
        "\n",
        "The study connects social interactions, brain chemistry, and substance use in a way that could inform understanding of addiction and reward systems.\n",
        "\n",
        "* The study possibly suggests a connection between stress and chemical responses\n",
        "* The real winner is the data, a group of satiated males and a group of frustrated males\n",
        "* Data are to statistics what the pitch is to a bowler"
      ]
    },
    {
      "cell_type": "markdown",
      "source": [
        "## Getting Data"
      ],
      "metadata": {
        "id": "0iQjMyVdSRAx"
      },
      "id": "0iQjMyVdSRAx"
    },
    {
      "cell_type": "markdown",
      "source": [
        "# Code Along"
      ],
      "metadata": {
        "id": "wrnNNAeqPym3"
      },
      "id": "wrnNNAeqPym3"
    },
    {
      "cell_type": "markdown",
      "id": "26b9c5e9",
      "metadata": {
        "id": "26b9c5e9"
      },
      "source": [
        "### Sklearn\n",
        "\n",
        "* https://scikit-learn.org/stable/datasets.html"
      ]
    },
    {
      "cell_type": "code",
      "execution_count": null,
      "id": "9c7432ed",
      "metadata": {
        "id": "9c7432ed"
      },
      "outputs": [],
      "source": [
        "# fetch california housing\n"
      ]
    },
    {
      "cell_type": "code",
      "execution_count": null,
      "id": "ac34ae7c",
      "metadata": {
        "id": "ac34ae7c"
      },
      "outputs": [],
      "source": [
        "# get keys\n"
      ]
    },
    {
      "cell_type": "code",
      "execution_count": null,
      "id": "d24db2ea",
      "metadata": {
        "id": "d24db2ea"
      },
      "outputs": [],
      "source": [
        "# get description\n"
      ]
    },
    {
      "cell_type": "code",
      "execution_count": null,
      "id": "66be9b06",
      "metadata": {
        "id": "66be9b06"
      },
      "outputs": [],
      "source": [
        "# print feature names and target names\n"
      ]
    },
    {
      "cell_type": "code",
      "execution_count": null,
      "id": "9dc5505b",
      "metadata": {
        "id": "9dc5505b"
      },
      "outputs": [],
      "source": [
        "# alternative method\n"
      ]
    },
    {
      "cell_type": "markdown",
      "id": "09455b39",
      "metadata": {
        "id": "09455b39"
      },
      "source": [
        "### Seaborn\n",
        "\n",
        "* https://seaborn.pydata.org/generated/seaborn.load_dataset.html"
      ]
    },
    {
      "cell_type": "code",
      "execution_count": null,
      "id": "efa93820",
      "metadata": {
        "id": "efa93820"
      },
      "outputs": [],
      "source": [
        "# get list of seaborn datasets\n"
      ]
    },
    {
      "cell_type": "code",
      "execution_count": null,
      "id": "aedf5438",
      "metadata": {
        "id": "aedf5438"
      },
      "outputs": [],
      "source": [
        "# loading seaborn dataset\n"
      ]
    },
    {
      "cell_type": "code",
      "execution_count": null,
      "id": "d9b24424",
      "metadata": {
        "id": "d9b24424"
      },
      "outputs": [],
      "source": [
        "# information on the dataset\n"
      ]
    },
    {
      "cell_type": "markdown",
      "id": "f368cf3f",
      "metadata": {
        "id": "f368cf3f"
      },
      "source": [
        "### Explore UCI\n",
        "\n",
        "* https://archive.ics.uci.edu/\n",
        "* https://www.datacamp.com/tutorial/pandas-read-csv"
      ]
    },
    {
      "cell_type": "code",
      "execution_count": null,
      "id": "4e7e911d",
      "metadata": {
        "id": "4e7e911d"
      },
      "outputs": [],
      "source": [
        "# explore uci / see website\n"
      ]
    },
    {
      "cell_type": "markdown",
      "id": "fc8f5538",
      "metadata": {
        "id": "fc8f5538"
      },
      "source": [
        "### Online Repositories\n",
        "* https://archive.ics.uci.edu/ml/datasets/Auto+MPG\n",
        "* http://lib.stat.cmu.edu/datasets/\n",
        "* https://www.kaggle.com/datasets"
      ]
    },
    {
      "cell_type": "markdown",
      "id": "6459825a",
      "metadata": {
        "id": "6459825a"
      },
      "source": [
        "### Uploading Datasets (.csv files) to Colab\n",
        "\n",
        "* Click on the File icon\n",
        "* Click on the Upload to session storage icon\n",
        "* Find your csv file and upload\n",
        "* Click through warning"
      ]
    },
    {
      "cell_type": "markdown",
      "id": "64377d9a",
      "metadata": {
        "id": "64377d9a"
      },
      "source": [
        "### CSV from the Web (GitHub)"
      ]
    },
    {
      "cell_type": "code",
      "execution_count": null,
      "id": "a3810d25",
      "metadata": {
        "id": "a3810d25"
      },
      "outputs": [],
      "source": [
        "# getting data from csv on GitHub\n"
      ]
    },
    {
      "cell_type": "markdown",
      "source": [
        "### wget"
      ],
      "metadata": {
        "id": "2MtCw9DPKzRU"
      },
      "id": "2MtCw9DPKzRU"
    },
    {
      "cell_type": "code",
      "source": [
        "# get database\n",
        "# !wget --no-check-certificate 'https://docs.google.com/uc?export=download&id=1a3f1eG7XomCY8NdU2MVKFTmhpZc1fV3O' -O titanic.db\n"
      ],
      "metadata": {
        "id": "p5YGAxdhOR3p"
      },
      "id": "p5YGAxdhOR3p",
      "execution_count": null,
      "outputs": []
    },
    {
      "cell_type": "markdown",
      "source": [
        "### Session Storage and Google Drive"
      ],
      "metadata": {
        "id": "bm8E8ozLK2DN"
      },
      "id": "bm8E8ozLK2DN"
    },
    {
      "cell_type": "markdown",
      "source": [
        "### SQL\n",
        "\n",
        "* SQLAlchemy"
      ],
      "metadata": {
        "id": "MkGHQHRUKjdx"
      },
      "id": "MkGHQHRUKjdx"
    },
    {
      "cell_type": "code",
      "source": [
        "# database table to pandas dataframe\n"
      ],
      "metadata": {
        "id": "qwXjcKjRKodj"
      },
      "id": "qwXjcKjRKodj",
      "execution_count": null,
      "outputs": []
    },
    {
      "cell_type": "markdown",
      "id": "9dc32dfd",
      "metadata": {
        "id": "9dc32dfd"
      },
      "source": [
        "### Simulated Data"
      ]
    },
    {
      "cell_type": "markdown",
      "id": "cbf36cc1",
      "metadata": {
        "id": "cbf36cc1"
      },
      "source": [
        "### Codebooks\n",
        "\n",
        "https://www.kaggle.com/rhuebner/human-resources-data-set<br />\n",
        "https://rpubs.com/rhuebner/hrd_cb_v14"
      ]
    },
    {
      "cell_type": "markdown",
      "id": "4c814fd2",
      "metadata": {
        "id": "4c814fd2"
      },
      "source": [
        "### Data Resource List\n",
        "\n",
        "* https://vincentarelbundock.github.io/Rdatasets/articles/data.html\n",
        "* pip install rdatasets\n",
        "* from rdatasets import data as rdata\n",
        "* https://www.statsmodels.org/devel/datasets/index.html\n",
        "* https://en.wikipedia.org/wiki/List_of_datasets_for_machine-learning_research\n",
        "* https://archive.ics.uci.edu/ml/datasets/Auto+MPG\n",
        "* http://lib.stat.cmu.edu/datasets/\n",
        "* https://www.kaggle.com/datasets\n",
        "* https://registry.opendata.aws/\n",
        "* https://dataportals.org/\n",
        "* https://opendatamonitor.eu/frontend/web/index.php?r=dashboard%2Findex\n",
        "* https://data.nasdaq.com/\n",
        "* http://radar.oreilly.com/2011/01/journalist-data-tools.html\n",
        "* https://www.reddit.com/r/datasets/\n",
        "* https://stat.ethz.ch/R-manual/R-devel/library/datasets/html/00Index.html\n",
        "* https://github.com/vincentarelbundock/Rdatasets\n",
        "* https://data.world/\n",
        "* https://data.gov/\n",
        "* https://registry.opendata.aws/\n",
        "* https://cloud.google.com/datasets\n",
        "* https://cloud.google.com/bigquery/public-data\n",
        "* https://services.google.com/fh/files/misc/public_datasets_one_pager.pdf"
      ]
    },
    {
      "cell_type": "markdown",
      "id": "b0804d2d",
      "metadata": {
        "id": "b0804d2d"
      },
      "source": [
        "### Excel: Text to Column\n",
        "\n",
        "* Download the student.zip file from https://archive.ics.uci.edu/dataset/320/student+performance\n",
        "* Unzip to an appropriate folder, and open student-mat.csv in Excel (HINT: Right-click on student-mat.csv and choose Open with Excel)\n",
        "* Save this file as student-mat.xlsx\n",
        "* Use Text to Column to format data\n",
        "* HINT: select all the data in the first column before using Text to Column and then use the semicolon as the Delimiter"
      ]
    },
    {
      "cell_type": "markdown",
      "source": [
        "### Public Data\n",
        "\n",
        "* https://data.census.gov/\n",
        "* https://healthdata.gov/\n",
        "* Edgar: https://www.sec.gov/edgar\n",
        "* Bureau of Justice: https://bjs.ojp.gov/\n",
        "* IRS: https://www.irs.gov/statistics\n",
        "* Bureau of Economic Analysis: https://www.bea.gov/\n",
        "* Federal Reserve: https://www.federalreserve.gov/data.htm\n",
        "* DOE Data and Research: https://www2.ed.gov/rschstat/landing.jhtml?src=ft\n",
        "* Bureau of Labor Statistics: https://www.bls.gov/\n",
        "* US Patent and Trademark Office: https://www.uspto.gov/\n",
        "* National Centers for Environmental Information: https://www.ncei.noaa.gov/\n",
        "* World Bank: https://data.worldbank.org/\n",
        "* CIA World Factbook: https://www.cia.gov/the-world-factbook/\n",
        "* United Nations: https://data.un.org/\n",
        "* UNICEF: https://data.unicef.org/\n",
        "* Statistics Canada: https://www.statcan.gc.ca/\n",
        "* Eurostat: https://ec.europa.eu/eurostat\n",
        "* Organization for Economic Cooperation and Development: https://data.oecd.org/\n",
        "* UK National Health Service NHS Digital: https://digital.nhs.uk/\n",
        "* Google Finance: https://www.google.com/finance/\n",
        "* Google Trends: https://trends.google.com/trends/\n",
        "* Google Public Data Explorer: https://www.google.com/publicdata/directory\n",
        "* Amazon Web Services Public Data: https://registry.opendata.aws/\n",
        "* Data.gov: https://data.gov/\n",
        "* Google Ngram Viewer: https://books.google.com/ngrams/\n",
        "* The Corpus of Contemporary American English: https://www.english-corpora.org/coca/\n",
        "* University of California, Irvine, Center for Machine Learning: https://archive.ics.uci.edu/\n",
        "* Pew Research Center: https://www.pewresearch.org/\n",
        "* https://www.linkedin.com/learning/learning-public-data-sets-2/bureau-of-labor-statistics?resume=false&u=74650474"
      ],
      "metadata": {
        "id": "3ugtZM3ALn4x"
      },
      "id": "3ugtZM3ALn4x"
    },
    {
      "cell_type": "markdown",
      "source": [
        "## Data Collection"
      ],
      "metadata": {
        "id": "1PylStduOHWj"
      },
      "id": "1PylStduOHWj"
    },
    {
      "cell_type": "markdown",
      "source": [
        "### Essential Principles\n",
        "\n",
        "To ensure data is valuable for analysis and modeling, it must adhere to three core principles: **representativeness**, **comparability**, and a **holistic perspective**.\n",
        "\n",
        "1. Representativeness\n",
        "\n",
        "The data sample must accurately reflect the characteristics of the larger population from which it was drawn.\n",
        "\n",
        "* **Why it matters**: A representative sample allows you to generalize findings from your analysis to the entire population. This enables the use of established statistical methods and ensures your conclusions are valid.\n",
        "* **Key considerations**:\n",
        "    * **Random sampling** is a fundamental technique to achieve representativeness, as it helps minimize bias.\n",
        "    * **Sample size** is critical; a larger sample size generally provides a more reliable and stable estimate of the population.\n",
        "    * **Challenges**: Obtaining a truly representative sample is often difficult and requires careful planning.\n",
        "\n",
        "2. Comparability\n",
        "\n",
        "Data should be collected in a way that allows for meaningful comparisons between different groups, time periods, or conditions.\n",
        "\n",
        "* **Why it matters**: Comparisons reveal relationships and differences that are key to answering questions like, \"Does a new method improve performance?\" or \"How does one group differ from another?\" Without a basis for comparison, it's impossible to evaluate effectiveness or find meaningful patterns.\n",
        "* **Example**: The joke from *Caddyshack* illustrates this perfectly. Comparing golf scores by height is nonsensical because height is an irrelevant metric for evaluating golfing ability. The **right comparison metric** is essential.\n",
        "\n",
        "3. Comprehensive Collection (The \"Clue\" Approach)\n",
        "\n",
        "Sometimes, the purpose of data collection isn't immediately clear. Like investigators at a crime scene, we should collect all available \"clues\" or data points, as their relevance might not be known until later.\n",
        "\n",
        "* **Why it matters**: A broad data collection strategy ensures that no potentially useful information is missed. A seemingly insignificant variable today could be the key to a breakthrough insight tomorrow.\n",
        "* **Analogy**: Think of data as clues. By collecting every clue at a \"crime scene\" (e.g., a business process or a scientific experiment), you ensure you have a complete picture. This holistic approach can reveal hidden connections and dependencies that would be missed if data collection were too narrowly focused."
      ],
      "metadata": {
        "id": "WxDNp47EZZ6X"
      },
      "id": "WxDNp47EZZ6X"
    },
    {
      "cell_type": "markdown",
      "id": "3d6fca2d",
      "metadata": {
        "id": "3d6fca2d"
      },
      "source": [
        "### Sampling\n",
        "\n",
        "According to Wikipedia (2022):\n",
        "\n",
        ">  Sampling is the selection of a subset (a statistical sample) of individuals from within a statistical population [similar elements] to estimate characteristics of the whole population (para 1).\n",
        "\n",
        "Sampling. (2022, January 24). In *Wikipedia*.https://en.wikipedia.org/wiki/Sampling_(statistics)\n",
        "\n",
        "### Probabilistic Sampling\n",
        "\n",
        "* Simple random sampling: https://www.statisticshowto.com/probability-and-statistics/statistics-definitions/simple-random-sample/\n",
        "* Systematic sampling: https://www.open.edu/openlearncreate/mod/oucontent/view.php?id=233&section=1.5.2\n",
        "* Stratified sampling: https://www.geeksforgeeks.org/stratified-sampling-in-pandas/\n",
        "* Clustering: https://www.voxco.com/blog/stratified-sampling-vs-cluster-sampling/\n",
        "\n",
        "In **simple random sampling**, every individual in a population has an **equal chance** of being selected. It's like drawing names out of a hat. This method is the most straightforward and helps to ensure the sample is unbiased and representative of the whole population.\n",
        "\n",
        "**Systematic sampling** is a method where a sample is selected from an ordered list by choosing a **random starting point** and then selecting every **$n^{th}$** individual. For example, if you wanted to survey 100 people from a list of 1,000, you might randomly pick the 7th person to start and then select every 10th person after that (17th, 27th, 37th, and so on). This method is easy to implement and can be efficient, but it can be problematic if there's a hidden pattern in the list that aligns with the sampling interval.\n",
        "\n",
        "**Stratified sampling** involves dividing the population into non-overlapping subgroups, or **strata**, based on shared characteristics (like age, gender, or income). A random sample is then drawn from **each stratum** to ensure that each subgroup is proportionally represented in the final sample. This is particularly useful when you need to ensure that specific, important subgroups are included in the study.\n",
        "\n",
        "**Cluster sampling** involves dividing a population into naturally occurring groups, or **clusters**, which often reflect geographic locations. The researcher then **randomly selects a few clusters** and surveys **every individual within those selected clusters**. Unlike stratified sampling, where you sample from every group, in cluster sampling, you survey everyone in only the chosen groups. This method is cost-effective and efficient for large, geographically spread-out populations.\n",
        "\n",
        "### Non-Probabilistic Sampling Methods\n",
        "\n",
        "https://www.analyticsvidhya.com/blog/2019/09/data-scientists-guide-8-types-of-sampling-techniques/\n",
        "* Convenience sampling\n",
        "* Quota sampling\n",
        "* Snowball sampling\n",
        "\n",
        "**Convenience sampling** involves selecting participants who are the **easiest to reach** or are readily available. Researchers simply collect data from whoever is convenient to them, like surveying people at a mall or students in a specific classroom. This method is fast and cost-effective, but the sample may not be representative of the larger population, which can lead to significant bias.\n",
        "\n",
        "**Quota sampling** is similar to stratified sampling but uses a non-random approach. The researcher divides the population into subgroups (strata) based on specific characteristics (e.g., age, gender, income) and then sets a specific number of participants, or a **quota**, to be collected from each subgroup. The researcher then uses a non-random method (like convenience sampling) to fill each quota. The goal is to ensure that key demographics are represented in the sample in the correct proportions, but because the selection within each subgroup isn't random, it can still introduce bias.\n",
        "\n",
        "**Snowball sampling** is a referral-based method used to find participants in **hard-to-reach or hidden populations**. Researchers start with a few initial participants (the \"seeds\") who meet the study's criteria. These participants are then asked to refer other people they know who also fit the criteria. The sample grows like a snowball rolling down a hill, getting bigger as each new participant refers more people. This method is highly effective for sensitive or niche topics where a list of the population doesn't exist. ❄️\n"
      ]
    },
    {
      "cell_type": "markdown",
      "source": [
        "# Make It Stick - Bias"
      ],
      "metadata": {
        "id": "PRMipbinOa-x"
      },
      "id": "PRMipbinOa-x"
    },
    {
      "cell_type": "markdown",
      "source": [
        "### Bias\n",
        "\n",
        "Data bias is a sneaky problem! It can creep into your data in many ways, often without you even realizing it.\n",
        "\n",
        "Examples of Biased Data\n",
        "\n",
        "**Selection bias** occurs when the sample of data collected is not truly random and therefore not representative of the entire population. If a politician wins an election, we might assume their policies are popular with everyone. However, if the data used to predict the outcome only came from their supporters (e.g., through a poll at a campaign rally), it's a biased sample. This self-selection of participants leads to a flawed conclusion that the politician's popularity is widespread, when in reality, the data was collected from a pre-selected group of people who were already inclined to support them. A survey of a specific online forum for a politician's supporters, for example, would be an example of selection bias, as the results would not reflect the views of the general public.\n",
        "\n",
        "**Publication bias** is the tendency for studies with \"positive\" or significant results to be published more often than those with \"negative\" or inconclusive results. A study that finds \"no link between video games and colon cancer\" is a \"negative\" finding and is less likely to be published. Meanwhile, a study that finds a statistically significant link—even if it's a surprising or weak one, like \"spending a lot of time playing video games is associated with a lower incidence of colon cancer\"—is more likely to be published. This skews the overall body of scientific literature on a topic, making it appear as though certain effects or associations are stronger than they really are, while the studies that found no effect are relegated to a \"file drawer\" of unpublished research.\n",
        "\n",
        "**Recall bias** is a type of measurement bias that happens when participants in a study do not remember past events or experiences accurately or completely. Your phrase \"memory is selective\" captures this perfectly. In a study, this is especially common in retrospective studies (those that look back in time). For instance, a researcher might be studying the potential causes of a disease and asks patients about their past diet. Patients with the disease may be more likely to remember and report a wide range of potential dietary \"risk factors\" they've heard about (over-reporting), while healthy participants may not be as motivated to recall specific details about their diet (under-reporting). This can lead to a misleading association between the reported factors and the disease.\n",
        "\n",
        "**Survivorship bias** is a form of selection bias where you only analyze data from those who \"survived\" a certain process, while ignoring the data from those who failed or dropped out. If a university only looks at the test scores of students who completed all four years, they would see a trend of improving scores. However, this data is biased because it excludes the students who dropped out in earlier years precisely because their academic performance was not strong. The trend of improving scores isn't necessarily true for the entire class cohort; it's only true for the \"survivors\" who were able to maintain a certain level of performance. A classic example is the analysis of World War II bombers: the military initially wanted to add armor to the most damaged parts of returning planes, but a statistician realized they were only looking at the planes that survived. The real insight was to put armor on the parts that **weren't** damaged on the returning planes, as those were the critical areas that, if hit, caused a plane to be lost.\n",
        "\n",
        "Here are some of the common types of bias to watch out for:\n",
        "\n",
        "**1. Sampling Bias**\n",
        "\n",
        "* **What it is:** Your sample doesn't accurately represent the population you're interested in. This can lead to inaccurate conclusions about the population.\n",
        "* **Examples:**\n",
        "    * **Convenience Sampling:**  Surveying only people who are easy to reach (e.g., your friends, people on the street).\n",
        "    * **Undercoverage:**  Some groups in the population are underrepresented in the sample (e.g., a survey about internet usage that only includes people with landline phones).\n",
        "\n",
        "**2. Measurement Bias**\n",
        "\n",
        "* **What it is:** The way you collect data influences the results.\n",
        "* **Examples:**\n",
        "    * **Leading Questions:**  Survey questions that are worded in a way that suggests a particular answer.\n",
        "    * **Social Desirability Bias:** People tend to answer questions in a way that makes them look good, even if it's not entirely truthful.\n",
        "    * **Instrument Bias:**  Problems with the measurement tool itself (e.g., a faulty scale).\n",
        "\n",
        "**3. Confirmation Bias**\n",
        "\n",
        "* **What it is:** You tend to favor information that confirms your existing beliefs and ignore information that contradicts them.\n",
        "* **Example:**  Only looking for research that supports your hypothesis and dismissing studies that don't.\n",
        "\n",
        "**4. Observer Bias**\n",
        "\n",
        "* **What it is:** The researcher's expectations or beliefs influence how they perceive or interpret the data.\n",
        "* **Example:**  A doctor might be more likely to diagnose a patient with a condition they're already familiar with, even if the symptoms could indicate something else.\n",
        "\n",
        "**5. Omitted Variable Bias**\n",
        "\n",
        "* **What it is:**  An important variable that influences the relationship between the variables you're studying is left out of your analysis.\n",
        "* **Example:**  Analyzing the relationship between exercise and heart health without considering factors like diet or genetics.\n",
        "\n",
        "**6. Survivorship Bias**\n",
        "\n",
        "* **What it is:**  You only focus on the \"survivors\" of a process and ignore those that didn't make it.\n",
        "* **Example:**  Studying the characteristics of successful businesses without considering the businesses that failed.\n",
        "\n",
        "**7.  Historical Bias**\n",
        "\n",
        "* **What it is:** Data from the past may reflect societal biases or norms that are no longer relevant or acceptable.\n",
        "* **Example:**  Analyzing historical hiring data might reveal discriminatory practices that were prevalent at the time.\n",
        "\n",
        "**8.  Recall Bias**\n",
        "\n",
        "* **What it is:**  People's memories of past events can be inaccurate or influenced by their current beliefs.\n",
        "* **Example:**  Asking people to recall their childhood eating habits might lead to inaccurate data.\n",
        "\n",
        "You're absolutely correct! Selection bias and publication bias are two very important types of bias that can significantly impact data analysis and interpretation. Let's add them to the list:\n",
        "\n",
        "**9. Selection Bias**\n",
        "\n",
        "* **What it is:** This occurs when the process of selecting individuals, groups, or data for analysis results in a sample that is not representative of the population of interest. This can lead to skewed results and inaccurate conclusions.\n",
        "* **Examples:**\n",
        "    * **Sampling Bias (as mentioned before):**  A specific type of selection bias where the sample isn't representative due to the method of selection.\n",
        "    * **Attrition Bias:** This happens when participants drop out of a study non-randomly, leading to a biased sample of those who remain.\n",
        "    * **Non-response Bias:** Occurs when people who choose to participate in a study differ systematically from those who don't.\n",
        "\n",
        "**10. Publication Bias**\n",
        "\n",
        "* **What it is:** This bias arises in academic research when studies with positive or significant results are more likely to be published than studies with negative or non-significant results. This can create a misleading impression of the true state of knowledge on a topic.\n",
        "* **Examples:**\n",
        "    * **File Drawer Problem:**  Studies with negative results are often \"filed away\" and never published, leading to an overrepresentation of positive findings in the literature.\n",
        "    * **Outcome Reporting Bias:** Researchers may selectively report outcomes that support their hypotheses, while downplaying or ignoring those that don't.\n",
        "\n",
        "**Why are selection and publication bias important?**\n",
        "\n",
        "* **Selection bias** can distort the results of any study, making it difficult to generalize findings to the broader population.\n",
        "* **Publication bias** can lead to a biased view of the evidence on a particular topic, potentially influencing decision-making in areas like healthcare, policy, and research.\n",
        "\n",
        "**How to mitigate these biases:**\n",
        "\n",
        "* **Selection Bias:**\n",
        "    * Use random sampling methods whenever possible.\n",
        "    * Carefully consider the inclusion and exclusion criteria for your study.\n",
        "    * Analyze the characteristics of participants who drop out or don't respond to identify potential biases.\n",
        "\n",
        "* **Publication Bias:**\n",
        "    * Encourage the publication of negative results through platforms like pre-print servers and journals that specifically publish null findings.\n",
        "    * Conduct systematic reviews and meta-analyses that include unpublished studies to get a more complete picture of the evidence.\n",
        "\n",
        "\n",
        "**Why is it important to be aware of bias?**\n",
        "\n",
        "Bias can lead to inaccurate conclusions, flawed models, and unfair or discriminatory outcomes.  By understanding the different types of bias, you can take steps to minimize their impact and ensure that your data analysis is as objective and reliable as possible.\n",
        "\n",
        "**Selection Bias, Measurement Bias, Outcome Report Bias Example**\n",
        "\n",
        "Story of a Texas school district needing good scores on a standard achievement test given in 10th grade so they held back poor performers in 9th grade and then bumped them up to 11th grade after a couple of years."
      ],
      "metadata": {
        "id": "lxDwuP4VNJyD"
      },
      "id": "lxDwuP4VNJyD"
    },
    {
      "cell_type": "markdown",
      "source": [
        "### Garbage In Garbage Out (Biased Data In, Biased Data Out)\n",
        "\n",
        "GI of GIGO\n",
        "\n",
        "* Wrong\n",
        "* Too Different\n",
        "* Too Similar\n",
        "* Missing\n",
        "* Terrible statistical assertions result from good statistical methods applied to bad samples"
      ],
      "metadata": {
        "id": "Ru2iL8qAZEP_"
      },
      "id": "Ru2iL8qAZEP_"
    }
  ],
  "metadata": {
    "kernelspec": {
      "display_name": "Python 3 (ipykernel)",
      "language": "python",
      "name": "python3"
    },
    "language_info": {
      "codemirror_mode": {
        "name": "ipython",
        "version": 3
      },
      "file_extension": ".py",
      "mimetype": "text/x-python",
      "name": "python",
      "nbconvert_exporter": "python",
      "pygments_lexer": "ipython3",
      "version": "3.9.7"
    },
    "colab": {
      "provenance": [],
      "include_colab_link": true
    }
  },
  "nbformat": 4,
  "nbformat_minor": 5
}